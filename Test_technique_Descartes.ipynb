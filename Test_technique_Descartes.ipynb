{
  "nbformat": 4,
  "nbformat_minor": 0,
  "metadata": {
    "colab": {
      "name": "Test technique Descartes.ipynb",
      "provenance": [],
      "collapsed_sections": [
        "i8gjXFFIxj3K",
        "fYRUXQBu4EXv",
        "0m5wH_fOOQJs",
        "OXpvBhF9PIuf",
        "JIn21OcMf-Tp",
        "8Q7oM-AwgQsZ",
        "MET-pV2NgT6T",
        "FmN9ByZYgdjv",
        "INo0kBNClidD",
        "b_aSTNf_hJib",
        "mhH39_5sivVO",
        "i-sP_Q_cjv-5",
        "z1r0DQa56j-8",
        "wMq8YPTetx4p",
        "H_intsUz00Up",
        "p8GfDH2C6QrT"
      ]
    },
    "kernelspec": {
      "name": "python3",
      "display_name": "Python 3"
    },
    "language_info": {
      "name": "python"
    }
  },
  "cells": [
    {
      "cell_type": "markdown",
      "source": [
        "# Import"
      ],
      "metadata": {
        "id": "lJbgWz-UDIMw"
      }
    },
    {
      "cell_type": "code",
      "execution_count": 1,
      "metadata": {
        "id": "GyqwlSY5-Lk7"
      },
      "outputs": [],
      "source": [
        "%matplotlib inline \n",
        "\n",
        "import numpy as np \n",
        "import pandas as pd \n",
        "import matplotlib.pyplot as plt \n",
        "import seaborn as sns \n",
        "from collections import Counter"
      ]
    },
    {
      "cell_type": "code",
      "source": [
        "from google.colab import drive\n",
        "drive.mount(\"/content/gdrive\",force_remount = True)"
      ],
      "metadata": {
        "colab": {
          "base_uri": "https://localhost:8080/"
        },
        "id": "fg-yrq6BAzrD",
        "outputId": "50b0d048-e068-44ce-be7c-e8122dccbca8"
      },
      "execution_count": 2,
      "outputs": [
        {
          "output_type": "stream",
          "name": "stdout",
          "text": [
            "Mounted at /content/gdrive\n"
          ]
        }
      ]
    },
    {
      "cell_type": "markdown",
      "source": [
        "# Reading Train Data & Overview"
      ],
      "metadata": {
        "id": "WmlcbaAdDMEz"
      }
    },
    {
      "cell_type": "code",
      "source": [
        "data_folder = \"/content/gdrive/My Drive/Colab Notebooks/Descartes Technical Test/auto-insurance-fall-2017/\""
      ],
      "metadata": {
        "id": "-XuM_ok5A4dU"
      },
      "execution_count": 3,
      "outputs": []
    },
    {
      "cell_type": "code",
      "source": [
        "df_train = pd.read_csv(data_folder + \"train_auto.csv\")\n",
        "df_train"
      ],
      "metadata": {
        "colab": {
          "base_uri": "https://localhost:8080/",
          "height": 0
        },
        "id": "EwBcQNnSBfCV",
        "outputId": "ca5a2962-7857-4af8-93ba-ecd03c0329d7"
      },
      "execution_count": 4,
      "outputs": [
        {
          "output_type": "execute_result",
          "data": {
            "text/html": [
              "\n",
              "  <div id=\"df-1355e2f5-532f-4e48-afa0-f4818541795c\">\n",
              "    <div class=\"colab-df-container\">\n",
              "      <div>\n",
              "<style scoped>\n",
              "    .dataframe tbody tr th:only-of-type {\n",
              "        vertical-align: middle;\n",
              "    }\n",
              "\n",
              "    .dataframe tbody tr th {\n",
              "        vertical-align: top;\n",
              "    }\n",
              "\n",
              "    .dataframe thead th {\n",
              "        text-align: right;\n",
              "    }\n",
              "</style>\n",
              "<table border=\"1\" class=\"dataframe\">\n",
              "  <thead>\n",
              "    <tr style=\"text-align: right;\">\n",
              "      <th></th>\n",
              "      <th>INDEX</th>\n",
              "      <th>TARGET_FLAG</th>\n",
              "      <th>TARGET_AMT</th>\n",
              "      <th>KIDSDRIV</th>\n",
              "      <th>AGE</th>\n",
              "      <th>HOMEKIDS</th>\n",
              "      <th>YOJ</th>\n",
              "      <th>INCOME</th>\n",
              "      <th>PARENT1</th>\n",
              "      <th>HOME_VAL</th>\n",
              "      <th>MSTATUS</th>\n",
              "      <th>SEX</th>\n",
              "      <th>EDUCATION</th>\n",
              "      <th>JOB</th>\n",
              "      <th>TRAVTIME</th>\n",
              "      <th>CAR_USE</th>\n",
              "      <th>BLUEBOOK</th>\n",
              "      <th>TIF</th>\n",
              "      <th>CAR_TYPE</th>\n",
              "      <th>RED_CAR</th>\n",
              "      <th>OLDCLAIM</th>\n",
              "      <th>CLM_FREQ</th>\n",
              "      <th>REVOKED</th>\n",
              "      <th>MVR_PTS</th>\n",
              "      <th>CAR_AGE</th>\n",
              "      <th>URBANICITY</th>\n",
              "    </tr>\n",
              "  </thead>\n",
              "  <tbody>\n",
              "    <tr>\n",
              "      <th>0</th>\n",
              "      <td>1</td>\n",
              "      <td>0</td>\n",
              "      <td>0.0</td>\n",
              "      <td>0</td>\n",
              "      <td>60.0</td>\n",
              "      <td>0</td>\n",
              "      <td>11.0</td>\n",
              "      <td>$67,349</td>\n",
              "      <td>No</td>\n",
              "      <td>$0</td>\n",
              "      <td>z_No</td>\n",
              "      <td>M</td>\n",
              "      <td>PhD</td>\n",
              "      <td>Professional</td>\n",
              "      <td>14</td>\n",
              "      <td>Private</td>\n",
              "      <td>$14,230</td>\n",
              "      <td>11</td>\n",
              "      <td>Minivan</td>\n",
              "      <td>yes</td>\n",
              "      <td>$4,461</td>\n",
              "      <td>2</td>\n",
              "      <td>No</td>\n",
              "      <td>3</td>\n",
              "      <td>18.0</td>\n",
              "      <td>Highly Urban/ Urban</td>\n",
              "    </tr>\n",
              "    <tr>\n",
              "      <th>1</th>\n",
              "      <td>2</td>\n",
              "      <td>0</td>\n",
              "      <td>0.0</td>\n",
              "      <td>0</td>\n",
              "      <td>43.0</td>\n",
              "      <td>0</td>\n",
              "      <td>11.0</td>\n",
              "      <td>$91,449</td>\n",
              "      <td>No</td>\n",
              "      <td>$257,252</td>\n",
              "      <td>z_No</td>\n",
              "      <td>M</td>\n",
              "      <td>z_High School</td>\n",
              "      <td>z_Blue Collar</td>\n",
              "      <td>22</td>\n",
              "      <td>Commercial</td>\n",
              "      <td>$14,940</td>\n",
              "      <td>1</td>\n",
              "      <td>Minivan</td>\n",
              "      <td>yes</td>\n",
              "      <td>$0</td>\n",
              "      <td>0</td>\n",
              "      <td>No</td>\n",
              "      <td>0</td>\n",
              "      <td>1.0</td>\n",
              "      <td>Highly Urban/ Urban</td>\n",
              "    </tr>\n",
              "    <tr>\n",
              "      <th>2</th>\n",
              "      <td>4</td>\n",
              "      <td>0</td>\n",
              "      <td>0.0</td>\n",
              "      <td>0</td>\n",
              "      <td>35.0</td>\n",
              "      <td>1</td>\n",
              "      <td>10.0</td>\n",
              "      <td>$16,039</td>\n",
              "      <td>No</td>\n",
              "      <td>$124,191</td>\n",
              "      <td>Yes</td>\n",
              "      <td>z_F</td>\n",
              "      <td>z_High School</td>\n",
              "      <td>Clerical</td>\n",
              "      <td>5</td>\n",
              "      <td>Private</td>\n",
              "      <td>$4,010</td>\n",
              "      <td>4</td>\n",
              "      <td>z_SUV</td>\n",
              "      <td>no</td>\n",
              "      <td>$38,690</td>\n",
              "      <td>2</td>\n",
              "      <td>No</td>\n",
              "      <td>3</td>\n",
              "      <td>10.0</td>\n",
              "      <td>Highly Urban/ Urban</td>\n",
              "    </tr>\n",
              "    <tr>\n",
              "      <th>3</th>\n",
              "      <td>5</td>\n",
              "      <td>0</td>\n",
              "      <td>0.0</td>\n",
              "      <td>0</td>\n",
              "      <td>51.0</td>\n",
              "      <td>0</td>\n",
              "      <td>14.0</td>\n",
              "      <td>NaN</td>\n",
              "      <td>No</td>\n",
              "      <td>$306,251</td>\n",
              "      <td>Yes</td>\n",
              "      <td>M</td>\n",
              "      <td>&lt;High School</td>\n",
              "      <td>z_Blue Collar</td>\n",
              "      <td>32</td>\n",
              "      <td>Private</td>\n",
              "      <td>$15,440</td>\n",
              "      <td>7</td>\n",
              "      <td>Minivan</td>\n",
              "      <td>yes</td>\n",
              "      <td>$0</td>\n",
              "      <td>0</td>\n",
              "      <td>No</td>\n",
              "      <td>0</td>\n",
              "      <td>6.0</td>\n",
              "      <td>Highly Urban/ Urban</td>\n",
              "    </tr>\n",
              "    <tr>\n",
              "      <th>4</th>\n",
              "      <td>6</td>\n",
              "      <td>0</td>\n",
              "      <td>0.0</td>\n",
              "      <td>0</td>\n",
              "      <td>50.0</td>\n",
              "      <td>0</td>\n",
              "      <td>NaN</td>\n",
              "      <td>$114,986</td>\n",
              "      <td>No</td>\n",
              "      <td>$243,925</td>\n",
              "      <td>Yes</td>\n",
              "      <td>z_F</td>\n",
              "      <td>PhD</td>\n",
              "      <td>Doctor</td>\n",
              "      <td>36</td>\n",
              "      <td>Private</td>\n",
              "      <td>$18,000</td>\n",
              "      <td>1</td>\n",
              "      <td>z_SUV</td>\n",
              "      <td>no</td>\n",
              "      <td>$19,217</td>\n",
              "      <td>2</td>\n",
              "      <td>Yes</td>\n",
              "      <td>3</td>\n",
              "      <td>17.0</td>\n",
              "      <td>Highly Urban/ Urban</td>\n",
              "    </tr>\n",
              "    <tr>\n",
              "      <th>...</th>\n",
              "      <td>...</td>\n",
              "      <td>...</td>\n",
              "      <td>...</td>\n",
              "      <td>...</td>\n",
              "      <td>...</td>\n",
              "      <td>...</td>\n",
              "      <td>...</td>\n",
              "      <td>...</td>\n",
              "      <td>...</td>\n",
              "      <td>...</td>\n",
              "      <td>...</td>\n",
              "      <td>...</td>\n",
              "      <td>...</td>\n",
              "      <td>...</td>\n",
              "      <td>...</td>\n",
              "      <td>...</td>\n",
              "      <td>...</td>\n",
              "      <td>...</td>\n",
              "      <td>...</td>\n",
              "      <td>...</td>\n",
              "      <td>...</td>\n",
              "      <td>...</td>\n",
              "      <td>...</td>\n",
              "      <td>...</td>\n",
              "      <td>...</td>\n",
              "      <td>...</td>\n",
              "    </tr>\n",
              "    <tr>\n",
              "      <th>8156</th>\n",
              "      <td>10297</td>\n",
              "      <td>0</td>\n",
              "      <td>0.0</td>\n",
              "      <td>0</td>\n",
              "      <td>35.0</td>\n",
              "      <td>0</td>\n",
              "      <td>11.0</td>\n",
              "      <td>$43,112</td>\n",
              "      <td>No</td>\n",
              "      <td>$0</td>\n",
              "      <td>z_No</td>\n",
              "      <td>M</td>\n",
              "      <td>z_High School</td>\n",
              "      <td>z_Blue Collar</td>\n",
              "      <td>51</td>\n",
              "      <td>Commercial</td>\n",
              "      <td>$27,330</td>\n",
              "      <td>10</td>\n",
              "      <td>Panel Truck</td>\n",
              "      <td>yes</td>\n",
              "      <td>$0</td>\n",
              "      <td>0</td>\n",
              "      <td>No</td>\n",
              "      <td>0</td>\n",
              "      <td>8.0</td>\n",
              "      <td>z_Highly Rural/ Rural</td>\n",
              "    </tr>\n",
              "    <tr>\n",
              "      <th>8157</th>\n",
              "      <td>10298</td>\n",
              "      <td>0</td>\n",
              "      <td>0.0</td>\n",
              "      <td>1</td>\n",
              "      <td>45.0</td>\n",
              "      <td>2</td>\n",
              "      <td>9.0</td>\n",
              "      <td>$164,669</td>\n",
              "      <td>No</td>\n",
              "      <td>$386,273</td>\n",
              "      <td>Yes</td>\n",
              "      <td>M</td>\n",
              "      <td>PhD</td>\n",
              "      <td>Manager</td>\n",
              "      <td>21</td>\n",
              "      <td>Private</td>\n",
              "      <td>$13,270</td>\n",
              "      <td>15</td>\n",
              "      <td>Minivan</td>\n",
              "      <td>no</td>\n",
              "      <td>$0</td>\n",
              "      <td>0</td>\n",
              "      <td>No</td>\n",
              "      <td>2</td>\n",
              "      <td>17.0</td>\n",
              "      <td>Highly Urban/ Urban</td>\n",
              "    </tr>\n",
              "    <tr>\n",
              "      <th>8158</th>\n",
              "      <td>10299</td>\n",
              "      <td>0</td>\n",
              "      <td>0.0</td>\n",
              "      <td>0</td>\n",
              "      <td>46.0</td>\n",
              "      <td>0</td>\n",
              "      <td>9.0</td>\n",
              "      <td>$107,204</td>\n",
              "      <td>No</td>\n",
              "      <td>$332,591</td>\n",
              "      <td>Yes</td>\n",
              "      <td>M</td>\n",
              "      <td>Masters</td>\n",
              "      <td>NaN</td>\n",
              "      <td>36</td>\n",
              "      <td>Commercial</td>\n",
              "      <td>$24,490</td>\n",
              "      <td>6</td>\n",
              "      <td>Panel Truck</td>\n",
              "      <td>no</td>\n",
              "      <td>$0</td>\n",
              "      <td>0</td>\n",
              "      <td>No</td>\n",
              "      <td>0</td>\n",
              "      <td>1.0</td>\n",
              "      <td>Highly Urban/ Urban</td>\n",
              "    </tr>\n",
              "    <tr>\n",
              "      <th>8159</th>\n",
              "      <td>10301</td>\n",
              "      <td>0</td>\n",
              "      <td>0.0</td>\n",
              "      <td>0</td>\n",
              "      <td>50.0</td>\n",
              "      <td>0</td>\n",
              "      <td>7.0</td>\n",
              "      <td>$43,445</td>\n",
              "      <td>No</td>\n",
              "      <td>$149,248</td>\n",
              "      <td>Yes</td>\n",
              "      <td>z_F</td>\n",
              "      <td>Bachelors</td>\n",
              "      <td>Home Maker</td>\n",
              "      <td>36</td>\n",
              "      <td>Private</td>\n",
              "      <td>$22,550</td>\n",
              "      <td>6</td>\n",
              "      <td>Minivan</td>\n",
              "      <td>no</td>\n",
              "      <td>$0</td>\n",
              "      <td>0</td>\n",
              "      <td>No</td>\n",
              "      <td>0</td>\n",
              "      <td>11.0</td>\n",
              "      <td>Highly Urban/ Urban</td>\n",
              "    </tr>\n",
              "    <tr>\n",
              "      <th>8160</th>\n",
              "      <td>10302</td>\n",
              "      <td>0</td>\n",
              "      <td>0.0</td>\n",
              "      <td>0</td>\n",
              "      <td>52.0</td>\n",
              "      <td>0</td>\n",
              "      <td>11.0</td>\n",
              "      <td>$53,235</td>\n",
              "      <td>No</td>\n",
              "      <td>$197,017</td>\n",
              "      <td>Yes</td>\n",
              "      <td>z_F</td>\n",
              "      <td>z_High School</td>\n",
              "      <td>Clerical</td>\n",
              "      <td>64</td>\n",
              "      <td>Private</td>\n",
              "      <td>$19,400</td>\n",
              "      <td>6</td>\n",
              "      <td>Minivan</td>\n",
              "      <td>no</td>\n",
              "      <td>$0</td>\n",
              "      <td>0</td>\n",
              "      <td>No</td>\n",
              "      <td>0</td>\n",
              "      <td>9.0</td>\n",
              "      <td>z_Highly Rural/ Rural</td>\n",
              "    </tr>\n",
              "  </tbody>\n",
              "</table>\n",
              "<p>8161 rows × 26 columns</p>\n",
              "</div>\n",
              "      <button class=\"colab-df-convert\" onclick=\"convertToInteractive('df-1355e2f5-532f-4e48-afa0-f4818541795c')\"\n",
              "              title=\"Convert this dataframe to an interactive table.\"\n",
              "              style=\"display:none;\">\n",
              "        \n",
              "  <svg xmlns=\"http://www.w3.org/2000/svg\" height=\"24px\"viewBox=\"0 0 24 24\"\n",
              "       width=\"24px\">\n",
              "    <path d=\"M0 0h24v24H0V0z\" fill=\"none\"/>\n",
              "    <path d=\"M18.56 5.44l.94 2.06.94-2.06 2.06-.94-2.06-.94-.94-2.06-.94 2.06-2.06.94zm-11 1L8.5 8.5l.94-2.06 2.06-.94-2.06-.94L8.5 2.5l-.94 2.06-2.06.94zm10 10l.94 2.06.94-2.06 2.06-.94-2.06-.94-.94-2.06-.94 2.06-2.06.94z\"/><path d=\"M17.41 7.96l-1.37-1.37c-.4-.4-.92-.59-1.43-.59-.52 0-1.04.2-1.43.59L10.3 9.45l-7.72 7.72c-.78.78-.78 2.05 0 2.83L4 21.41c.39.39.9.59 1.41.59.51 0 1.02-.2 1.41-.59l7.78-7.78 2.81-2.81c.8-.78.8-2.07 0-2.86zM5.41 20L4 18.59l7.72-7.72 1.47 1.35L5.41 20z\"/>\n",
              "  </svg>\n",
              "      </button>\n",
              "      \n",
              "  <style>\n",
              "    .colab-df-container {\n",
              "      display:flex;\n",
              "      flex-wrap:wrap;\n",
              "      gap: 12px;\n",
              "    }\n",
              "\n",
              "    .colab-df-convert {\n",
              "      background-color: #E8F0FE;\n",
              "      border: none;\n",
              "      border-radius: 50%;\n",
              "      cursor: pointer;\n",
              "      display: none;\n",
              "      fill: #1967D2;\n",
              "      height: 32px;\n",
              "      padding: 0 0 0 0;\n",
              "      width: 32px;\n",
              "    }\n",
              "\n",
              "    .colab-df-convert:hover {\n",
              "      background-color: #E2EBFA;\n",
              "      box-shadow: 0px 1px 2px rgba(60, 64, 67, 0.3), 0px 1px 3px 1px rgba(60, 64, 67, 0.15);\n",
              "      fill: #174EA6;\n",
              "    }\n",
              "\n",
              "    [theme=dark] .colab-df-convert {\n",
              "      background-color: #3B4455;\n",
              "      fill: #D2E3FC;\n",
              "    }\n",
              "\n",
              "    [theme=dark] .colab-df-convert:hover {\n",
              "      background-color: #434B5C;\n",
              "      box-shadow: 0px 1px 3px 1px rgba(0, 0, 0, 0.15);\n",
              "      filter: drop-shadow(0px 1px 2px rgba(0, 0, 0, 0.3));\n",
              "      fill: #FFFFFF;\n",
              "    }\n",
              "  </style>\n",
              "\n",
              "      <script>\n",
              "        const buttonEl =\n",
              "          document.querySelector('#df-1355e2f5-532f-4e48-afa0-f4818541795c button.colab-df-convert');\n",
              "        buttonEl.style.display =\n",
              "          google.colab.kernel.accessAllowed ? 'block' : 'none';\n",
              "\n",
              "        async function convertToInteractive(key) {\n",
              "          const element = document.querySelector('#df-1355e2f5-532f-4e48-afa0-f4818541795c');\n",
              "          const dataTable =\n",
              "            await google.colab.kernel.invokeFunction('convertToInteractive',\n",
              "                                                     [key], {});\n",
              "          if (!dataTable) return;\n",
              "\n",
              "          const docLinkHtml = 'Like what you see? Visit the ' +\n",
              "            '<a target=\"_blank\" href=https://colab.research.google.com/notebooks/data_table.ipynb>data table notebook</a>'\n",
              "            + ' to learn more about interactive tables.';\n",
              "          element.innerHTML = '';\n",
              "          dataTable['output_type'] = 'display_data';\n",
              "          await google.colab.output.renderOutput(dataTable, element);\n",
              "          const docLink = document.createElement('div');\n",
              "          docLink.innerHTML = docLinkHtml;\n",
              "          element.appendChild(docLink);\n",
              "        }\n",
              "      </script>\n",
              "    </div>\n",
              "  </div>\n",
              "  "
            ],
            "text/plain": [
              "      INDEX  TARGET_FLAG  TARGET_AMT  ...  MVR_PTS  CAR_AGE             URBANICITY\n",
              "0         1            0         0.0  ...        3     18.0    Highly Urban/ Urban\n",
              "1         2            0         0.0  ...        0      1.0    Highly Urban/ Urban\n",
              "2         4            0         0.0  ...        3     10.0    Highly Urban/ Urban\n",
              "3         5            0         0.0  ...        0      6.0    Highly Urban/ Urban\n",
              "4         6            0         0.0  ...        3     17.0    Highly Urban/ Urban\n",
              "...     ...          ...         ...  ...      ...      ...                    ...\n",
              "8156  10297            0         0.0  ...        0      8.0  z_Highly Rural/ Rural\n",
              "8157  10298            0         0.0  ...        2     17.0    Highly Urban/ Urban\n",
              "8158  10299            0         0.0  ...        0      1.0    Highly Urban/ Urban\n",
              "8159  10301            0         0.0  ...        0     11.0    Highly Urban/ Urban\n",
              "8160  10302            0         0.0  ...        0      9.0  z_Highly Rural/ Rural\n",
              "\n",
              "[8161 rows x 26 columns]"
            ]
          },
          "metadata": {},
          "execution_count": 4
        }
      ]
    },
    {
      "cell_type": "markdown",
      "source": [
        "**Train data size** : 8161 rows × 26 columns \n",
        "\n",
        "**features** : \n",
        "- *INDEX* is a column to drop\n",
        "- *TARGET_FLAG* is our target\n",
        "- \"*TARGET_AMT*\" is also related to the target\n",
        "- **numerical features** : \"*KIDSDRIV*\", \"*AGE*\", \"*HOMEKIDS*\", \"*YOJ*\", \"*TRAVTIME*\", \"*TIF*\", \"*CLM_FREQ*\", \"*MVR_PTS*\" and \"*CAR_AGE*\" \n",
        "- **Categorical features** : \"*PARENT1*\", \"*MSTATUS*\", \"*SEX*\", \"*EDUCATION*\", \"*JOB*\", \"*CAR_USE*\", \"*CAR_TYPE*\", \"*RED_CAR*\", \"*REVOKED*\" and \"*URBANICITY*\"\n",
        "- **Other** : \"*INCOME*\", \"*HOME_VAL*\", \"*BLUEBOOK*\" and \"*OLDCLAIM*\" Are numercial features indicating an amount of money. (Dollar sign to eliminate)\n",
        "\n",
        "\n",
        "\n",
        "\n"
      ],
      "metadata": {
        "id": "Cyrhg8pdCZ2_"
      }
    },
    {
      "cell_type": "markdown",
      "source": [
        "### Target Distribution"
      ],
      "metadata": {
        "id": "SRu29r6ULfE9"
      }
    },
    {
      "cell_type": "code",
      "source": [
        "sns.countplot(df_train.TARGET_FLAG)"
      ],
      "metadata": {
        "colab": {
          "base_uri": "https://localhost:8080/",
          "height": 0
        },
        "id": "8f-OgHRcCm28",
        "outputId": "0df19da0-f016-470e-a419-3c2061b63c36"
      },
      "execution_count": 5,
      "outputs": [
        {
          "output_type": "stream",
          "name": "stderr",
          "text": [
            "/usr/local/lib/python3.7/dist-packages/seaborn/_decorators.py:43: FutureWarning: Pass the following variable as a keyword arg: x. From version 0.12, the only valid positional argument will be `data`, and passing other arguments without an explicit keyword will result in an error or misinterpretation.\n",
            "  FutureWarning\n"
          ]
        },
        {
          "output_type": "execute_result",
          "data": {
            "text/plain": [
              "<matplotlib.axes._subplots.AxesSubplot at 0x7fe0823de550>"
            ]
          },
          "metadata": {},
          "execution_count": 5
        },
        {
          "output_type": "display_data",
          "data": {
            "image/png": "[encoded data removed]",
            "text/plain": [
              "<Figure size 432x288 with 1 Axes>"
            ]
          },
          "metadata": {
            "needs_background": "light"
          }
        }
      ]
    },
    {
      "cell_type": "code",
      "source": [
        "Counter(df_train.TARGET_FLAG)"
      ],
      "metadata": {
        "colab": {
          "base_uri": "https://localhost:8080/"
        },
        "id": "CTEkgpDZLpgV",
        "outputId": "f58665b8-1bcf-4366-da0c-e1a01a6b878a"
      },
      "execution_count": 6,
      "outputs": [
        {
          "output_type": "execute_result",
          "data": {
            "text/plain": [
              "Counter({0: 6008, 1: 2153})"
            ]
          },
          "metadata": {},
          "execution_count": 6
        }
      ]
    },
    {
      "cell_type": "markdown",
      "source": [
        "TARGET_FLAG Values :\n",
        "  - 0 with a frequency of 6008 (74 %)\n",
        "  - 1 with a frequency of 2153 (26 %)\n",
        "\n",
        "The data is quite imbalanced. Thus we can try an imbalanced learning model in the modeling phase."
      ],
      "metadata": {
        "id": "Mm-9Yqb2Lk43"
      }
    },
    {
      "cell_type": "markdown",
      "source": [
        "### Missing values (nan)"
      ],
      "metadata": {
        "id": "nk3b_l0ZMEgH"
      }
    },
    {
      "cell_type": "code",
      "source": [
        "round(df_train.isnull().mean() * 100,3)"
      ],
      "metadata": {
        "colab": {
          "base_uri": "https://localhost:8080/"
        },
        "id": "QiOGlz1SGQp6",
        "outputId": "5ee7aded-1e4a-4679-8170-28103ab43712"
      },
      "execution_count": 7,
      "outputs": [
        {
          "output_type": "execute_result",
          "data": {
            "text/plain": [
              "INDEX          0.000\n",
              "TARGET_FLAG    0.000\n",
              "TARGET_AMT     0.000\n",
              "KIDSDRIV       0.000\n",
              "AGE            0.074\n",
              "HOMEKIDS       0.000\n",
              "YOJ            5.563\n",
              "INCOME         5.453\n",
              "PARENT1        0.000\n",
              "HOME_VAL       5.686\n",
              "MSTATUS        0.000\n",
              "SEX            0.000\n",
              "EDUCATION      0.000\n",
              "JOB            6.445\n",
              "TRAVTIME       0.000\n",
              "CAR_USE        0.000\n",
              "BLUEBOOK       0.000\n",
              "TIF            0.000\n",
              "CAR_TYPE       0.000\n",
              "RED_CAR        0.000\n",
              "OLDCLAIM       0.000\n",
              "CLM_FREQ       0.000\n",
              "REVOKED        0.000\n",
              "MVR_PTS        0.000\n",
              "CAR_AGE        6.249\n",
              "URBANICITY     0.000\n",
              "dtype: float64"
            ]
          },
          "metadata": {},
          "execution_count": 7
        }
      ]
    },
    {
      "cell_type": "markdown",
      "source": [
        "We can keep all the columns and impute missing values"
      ],
      "metadata": {
        "id": "HgUvsIbQMrpD"
      }
    },
    {
      "cell_type": "markdown",
      "source": [
        "# Data Preprocessing"
      ],
      "metadata": {
        "id": "gsgkBN52V8v2"
      }
    },
    {
      "cell_type": "code",
      "source": [
        "df_train = pd.read_csv(data_folder + \"train_auto.csv\")"
      ],
      "metadata": {
        "id": "FVISvZlRMQbZ"
      },
      "execution_count": 8,
      "outputs": []
    },
    {
      "cell_type": "code",
      "source": [
        "df_train.drop(columns='INDEX', inplace=True) # Drop INDEX column\n",
        "\n",
        "other_features = [\"INCOME\", \"HOME_VAL\", \"BLUEBOOK\", \"OLDCLAIM\"]\n",
        "for feature in other_features :\n",
        "  df_train[feature] = pd.to_numeric(df_train[feature].str.replace(',','.').str[1:])   #Eliminate the dollar sign and convert columns to numerical"
      ],
      "metadata": {
        "id": "nJeJYnEPWdqV"
      },
      "execution_count": 9,
      "outputs": []
    },
    {
      "cell_type": "code",
      "source": [
        "df_train"
      ],
      "metadata": {
        "colab": {
          "base_uri": "https://localhost:8080/",
          "height": 0
        },
        "id": "b8Z9yxxVeCzE",
        "outputId": "28d8808d-3ce7-4f5c-c6cd-cd1842c1670a"
      },
      "execution_count": 10,
      "outputs": [
        {
          "output_type": "execute_result",
          "data": {
            "text/html": [
              "\n",
              "  <div id=\"df-f278fd77-eab5-4b83-bb9c-6817196540fa\">\n",
              "    <div class=\"colab-df-container\">\n",
              "      <div>\n",
              "<style scoped>\n",
              "    .dataframe tbody tr th:only-of-type {\n",
              "        vertical-align: middle;\n",
              "    }\n",
              "\n",
              "    .dataframe tbody tr th {\n",
              "        vertical-align: top;\n",
              "    }\n",
              "\n",
              "    .dataframe thead th {\n",
              "        text-align: right;\n",
              "    }\n",
              "</style>\n",
              "<table border=\"1\" class=\"dataframe\">\n",
              "  <thead>\n",
              "    <tr style=\"text-align: right;\">\n",
              "      <th></th>\n",
              "      <th>TARGET_FLAG</th>\n",
              "      <th>TARGET_AMT</th>\n",
              "      <th>KIDSDRIV</th>\n",
              "      <th>AGE</th>\n",
              "      <th>HOMEKIDS</th>\n",
              "      <th>YOJ</th>\n",
              "      <th>INCOME</th>\n",
              "      <th>PARENT1</th>\n",
              "      <th>HOME_VAL</th>\n",
              "      <th>MSTATUS</th>\n",
              "      <th>SEX</th>\n",
              "      <th>EDUCATION</th>\n",
              "      <th>JOB</th>\n",
              "      <th>TRAVTIME</th>\n",
              "      <th>CAR_USE</th>\n",
              "      <th>BLUEBOOK</th>\n",
              "      <th>TIF</th>\n",
              "      <th>CAR_TYPE</th>\n",
              "      <th>RED_CAR</th>\n",
              "      <th>OLDCLAIM</th>\n",
              "      <th>CLM_FREQ</th>\n",
              "      <th>REVOKED</th>\n",
              "      <th>MVR_PTS</th>\n",
              "      <th>CAR_AGE</th>\n",
              "      <th>URBANICITY</th>\n",
              "    </tr>\n",
              "  </thead>\n",
              "  <tbody>\n",
              "    <tr>\n",
              "      <th>0</th>\n",
              "      <td>0</td>\n",
              "      <td>0.0</td>\n",
              "      <td>0</td>\n",
              "      <td>60.0</td>\n",
              "      <td>0</td>\n",
              "      <td>11.0</td>\n",
              "      <td>67.349</td>\n",
              "      <td>No</td>\n",
              "      <td>0.000</td>\n",
              "      <td>z_No</td>\n",
              "      <td>M</td>\n",
              "      <td>PhD</td>\n",
              "      <td>Professional</td>\n",
              "      <td>14</td>\n",
              "      <td>Private</td>\n",
              "      <td>14.23</td>\n",
              "      <td>11</td>\n",
              "      <td>Minivan</td>\n",
              "      <td>yes</td>\n",
              "      <td>4.461</td>\n",
              "      <td>2</td>\n",
              "      <td>No</td>\n",
              "      <td>3</td>\n",
              "      <td>18.0</td>\n",
              "      <td>Highly Urban/ Urban</td>\n",
              "    </tr>\n",
              "    <tr>\n",
              "      <th>1</th>\n",
              "      <td>0</td>\n",
              "      <td>0.0</td>\n",
              "      <td>0</td>\n",
              "      <td>43.0</td>\n",
              "      <td>0</td>\n",
              "      <td>11.0</td>\n",
              "      <td>91.449</td>\n",
              "      <td>No</td>\n",
              "      <td>257.252</td>\n",
              "      <td>z_No</td>\n",
              "      <td>M</td>\n",
              "      <td>z_High School</td>\n",
              "      <td>z_Blue Collar</td>\n",
              "      <td>22</td>\n",
              "      <td>Commercial</td>\n",
              "      <td>14.94</td>\n",
              "      <td>1</td>\n",
              "      <td>Minivan</td>\n",
              "      <td>yes</td>\n",
              "      <td>0.000</td>\n",
              "      <td>0</td>\n",
              "      <td>No</td>\n",
              "      <td>0</td>\n",
              "      <td>1.0</td>\n",
              "      <td>Highly Urban/ Urban</td>\n",
              "    </tr>\n",
              "    <tr>\n",
              "      <th>2</th>\n",
              "      <td>0</td>\n",
              "      <td>0.0</td>\n",
              "      <td>0</td>\n",
              "      <td>35.0</td>\n",
              "      <td>1</td>\n",
              "      <td>10.0</td>\n",
              "      <td>16.039</td>\n",
              "      <td>No</td>\n",
              "      <td>124.191</td>\n",
              "      <td>Yes</td>\n",
              "      <td>z_F</td>\n",
              "      <td>z_High School</td>\n",
              "      <td>Clerical</td>\n",
              "      <td>5</td>\n",
              "      <td>Private</td>\n",
              "      <td>4.01</td>\n",
              "      <td>4</td>\n",
              "      <td>z_SUV</td>\n",
              "      <td>no</td>\n",
              "      <td>38.690</td>\n",
              "      <td>2</td>\n",
              "      <td>No</td>\n",
              "      <td>3</td>\n",
              "      <td>10.0</td>\n",
              "      <td>Highly Urban/ Urban</td>\n",
              "    </tr>\n",
              "    <tr>\n",
              "      <th>3</th>\n",
              "      <td>0</td>\n",
              "      <td>0.0</td>\n",
              "      <td>0</td>\n",
              "      <td>51.0</td>\n",
              "      <td>0</td>\n",
              "      <td>14.0</td>\n",
              "      <td>NaN</td>\n",
              "      <td>No</td>\n",
              "      <td>306.251</td>\n",
              "      <td>Yes</td>\n",
              "      <td>M</td>\n",
              "      <td>&lt;High School</td>\n",
              "      <td>z_Blue Collar</td>\n",
              "      <td>32</td>\n",
              "      <td>Private</td>\n",
              "      <td>15.44</td>\n",
              "      <td>7</td>\n",
              "      <td>Minivan</td>\n",
              "      <td>yes</td>\n",
              "      <td>0.000</td>\n",
              "      <td>0</td>\n",
              "      <td>No</td>\n",
              "      <td>0</td>\n",
              "      <td>6.0</td>\n",
              "      <td>Highly Urban/ Urban</td>\n",
              "    </tr>\n",
              "    <tr>\n",
              "      <th>4</th>\n",
              "      <td>0</td>\n",
              "      <td>0.0</td>\n",
              "      <td>0</td>\n",
              "      <td>50.0</td>\n",
              "      <td>0</td>\n",
              "      <td>NaN</td>\n",
              "      <td>114.986</td>\n",
              "      <td>No</td>\n",
              "      <td>243.925</td>\n",
              "      <td>Yes</td>\n",
              "      <td>z_F</td>\n",
              "      <td>PhD</td>\n",
              "      <td>Doctor</td>\n",
              "      <td>36</td>\n",
              "      <td>Private</td>\n",
              "      <td>18.00</td>\n",
              "      <td>1</td>\n",
              "      <td>z_SUV</td>\n",
              "      <td>no</td>\n",
              "      <td>19.217</td>\n",
              "      <td>2</td>\n",
              "      <td>Yes</td>\n",
              "      <td>3</td>\n",
              "      <td>17.0</td>\n",
              "      <td>Highly Urban/ Urban</td>\n",
              "    </tr>\n",
              "    <tr>\n",
              "      <th>...</th>\n",
              "      <td>...</td>\n",
              "      <td>...</td>\n",
              "      <td>...</td>\n",
              "      <td>...</td>\n",
              "      <td>...</td>\n",
              "      <td>...</td>\n",
              "      <td>...</td>\n",
              "      <td>...</td>\n",
              "      <td>...</td>\n",
              "      <td>...</td>\n",
              "      <td>...</td>\n",
              "      <td>...</td>\n",
              "      <td>...</td>\n",
              "      <td>...</td>\n",
              "      <td>...</td>\n",
              "      <td>...</td>\n",
              "      <td>...</td>\n",
              "      <td>...</td>\n",
              "      <td>...</td>\n",
              "      <td>...</td>\n",
              "      <td>...</td>\n",
              "      <td>...</td>\n",
              "      <td>...</td>\n",
              "      <td>...</td>\n",
              "      <td>...</td>\n",
              "    </tr>\n",
              "    <tr>\n",
              "      <th>8156</th>\n",
              "      <td>0</td>\n",
              "      <td>0.0</td>\n",
              "      <td>0</td>\n",
              "      <td>35.0</td>\n",
              "      <td>0</td>\n",
              "      <td>11.0</td>\n",
              "      <td>43.112</td>\n",
              "      <td>No</td>\n",
              "      <td>0.000</td>\n",
              "      <td>z_No</td>\n",
              "      <td>M</td>\n",
              "      <td>z_High School</td>\n",
              "      <td>z_Blue Collar</td>\n",
              "      <td>51</td>\n",
              "      <td>Commercial</td>\n",
              "      <td>27.33</td>\n",
              "      <td>10</td>\n",
              "      <td>Panel Truck</td>\n",
              "      <td>yes</td>\n",
              "      <td>0.000</td>\n",
              "      <td>0</td>\n",
              "      <td>No</td>\n",
              "      <td>0</td>\n",
              "      <td>8.0</td>\n",
              "      <td>z_Highly Rural/ Rural</td>\n",
              "    </tr>\n",
              "    <tr>\n",
              "      <th>8157</th>\n",
              "      <td>0</td>\n",
              "      <td>0.0</td>\n",
              "      <td>1</td>\n",
              "      <td>45.0</td>\n",
              "      <td>2</td>\n",
              "      <td>9.0</td>\n",
              "      <td>164.669</td>\n",
              "      <td>No</td>\n",
              "      <td>386.273</td>\n",
              "      <td>Yes</td>\n",
              "      <td>M</td>\n",
              "      <td>PhD</td>\n",
              "      <td>Manager</td>\n",
              "      <td>21</td>\n",
              "      <td>Private</td>\n",
              "      <td>13.27</td>\n",
              "      <td>15</td>\n",
              "      <td>Minivan</td>\n",
              "      <td>no</td>\n",
              "      <td>0.000</td>\n",
              "      <td>0</td>\n",
              "      <td>No</td>\n",
              "      <td>2</td>\n",
              "      <td>17.0</td>\n",
              "      <td>Highly Urban/ Urban</td>\n",
              "    </tr>\n",
              "    <tr>\n",
              "      <th>8158</th>\n",
              "      <td>0</td>\n",
              "      <td>0.0</td>\n",
              "      <td>0</td>\n",
              "      <td>46.0</td>\n",
              "      <td>0</td>\n",
              "      <td>9.0</td>\n",
              "      <td>107.204</td>\n",
              "      <td>No</td>\n",
              "      <td>332.591</td>\n",
              "      <td>Yes</td>\n",
              "      <td>M</td>\n",
              "      <td>Masters</td>\n",
              "      <td>NaN</td>\n",
              "      <td>36</td>\n",
              "      <td>Commercial</td>\n",
              "      <td>24.49</td>\n",
              "      <td>6</td>\n",
              "      <td>Panel Truck</td>\n",
              "      <td>no</td>\n",
              "      <td>0.000</td>\n",
              "      <td>0</td>\n",
              "      <td>No</td>\n",
              "      <td>0</td>\n",
              "      <td>1.0</td>\n",
              "      <td>Highly Urban/ Urban</td>\n",
              "    </tr>\n",
              "    <tr>\n",
              "      <th>8159</th>\n",
              "      <td>0</td>\n",
              "      <td>0.0</td>\n",
              "      <td>0</td>\n",
              "      <td>50.0</td>\n",
              "      <td>0</td>\n",
              "      <td>7.0</td>\n",
              "      <td>43.445</td>\n",
              "      <td>No</td>\n",
              "      <td>149.248</td>\n",
              "      <td>Yes</td>\n",
              "      <td>z_F</td>\n",
              "      <td>Bachelors</td>\n",
              "      <td>Home Maker</td>\n",
              "      <td>36</td>\n",
              "      <td>Private</td>\n",
              "      <td>22.55</td>\n",
              "      <td>6</td>\n",
              "      <td>Minivan</td>\n",
              "      <td>no</td>\n",
              "      <td>0.000</td>\n",
              "      <td>0</td>\n",
              "      <td>No</td>\n",
              "      <td>0</td>\n",
              "      <td>11.0</td>\n",
              "      <td>Highly Urban/ Urban</td>\n",
              "    </tr>\n",
              "    <tr>\n",
              "      <th>8160</th>\n",
              "      <td>0</td>\n",
              "      <td>0.0</td>\n",
              "      <td>0</td>\n",
              "      <td>52.0</td>\n",
              "      <td>0</td>\n",
              "      <td>11.0</td>\n",
              "      <td>53.235</td>\n",
              "      <td>No</td>\n",
              "      <td>197.017</td>\n",
              "      <td>Yes</td>\n",
              "      <td>z_F</td>\n",
              "      <td>z_High School</td>\n",
              "      <td>Clerical</td>\n",
              "      <td>64</td>\n",
              "      <td>Private</td>\n",
              "      <td>19.40</td>\n",
              "      <td>6</td>\n",
              "      <td>Minivan</td>\n",
              "      <td>no</td>\n",
              "      <td>0.000</td>\n",
              "      <td>0</td>\n",
              "      <td>No</td>\n",
              "      <td>0</td>\n",
              "      <td>9.0</td>\n",
              "      <td>z_Highly Rural/ Rural</td>\n",
              "    </tr>\n",
              "  </tbody>\n",
              "</table>\n",
              "<p>8161 rows × 25 columns</p>\n",
              "</div>\n",
              "      <button class=\"colab-df-convert\" onclick=\"convertToInteractive('df-f278fd77-eab5-4b83-bb9c-6817196540fa')\"\n",
              "              title=\"Convert this dataframe to an interactive table.\"\n",
              "              style=\"display:none;\">\n",
              "        \n",
              "  <svg xmlns=\"http://www.w3.org/2000/svg\" height=\"24px\"viewBox=\"0 0 24 24\"\n",
              "       width=\"24px\">\n",
              "    <path d=\"M0 0h24v24H0V0z\" fill=\"none\"/>\n",
              "    <path d=\"M18.56 5.44l.94 2.06.94-2.06 2.06-.94-2.06-.94-.94-2.06-.94 2.06-2.06.94zm-11 1L8.5 8.5l.94-2.06 2.06-.94-2.06-.94L8.5 2.5l-.94 2.06-2.06.94zm10 10l.94 2.06.94-2.06 2.06-.94-2.06-.94-.94-2.06-.94 2.06-2.06.94z\"/><path d=\"M17.41 7.96l-1.37-1.37c-.4-.4-.92-.59-1.43-.59-.52 0-1.04.2-1.43.59L10.3 9.45l-7.72 7.72c-.78.78-.78 2.05 0 2.83L4 21.41c.39.39.9.59 1.41.59.51 0 1.02-.2 1.41-.59l7.78-7.78 2.81-2.81c.8-.78.8-2.07 0-2.86zM5.41 20L4 18.59l7.72-7.72 1.47 1.35L5.41 20z\"/>\n",
              "  </svg>\n",
              "      </button>\n",
              "      \n",
              "  <style>\n",
              "    .colab-df-container {\n",
              "      display:flex;\n",
              "      flex-wrap:wrap;\n",
              "      gap: 12px;\n",
              "    }\n",
              "\n",
              "    .colab-df-convert {\n",
              "      background-color: #E8F0FE;\n",
              "      border: none;\n",
              "      border-radius: 50%;\n",
              "      cursor: pointer;\n",
              "      display: none;\n",
              "      fill: #1967D2;\n",
              "      height: 32px;\n",
              "      padding: 0 0 0 0;\n",
              "      width: 32px;\n",
              "    }\n",
              "\n",
              "    .colab-df-convert:hover {\n",
              "      background-color: #E2EBFA;\n",
              "      box-shadow: 0px 1px 2px rgba(60, 64, 67, 0.3), 0px 1px 3px 1px rgba(60, 64, 67, 0.15);\n",
              "      fill: #174EA6;\n",
              "    }\n",
              "\n",
              "    [theme=dark] .colab-df-convert {\n",
              "      background-color: #3B4455;\n",
              "      fill: #D2E3FC;\n",
              "    }\n",
              "\n",
              "    [theme=dark] .colab-df-convert:hover {\n",
              "      background-color: #434B5C;\n",
              "      box-shadow: 0px 1px 3px 1px rgba(0, 0, 0, 0.15);\n",
              "      filter: drop-shadow(0px 1px 2px rgba(0, 0, 0, 0.3));\n",
              "      fill: #FFFFFF;\n",
              "    }\n",
              "  </style>\n",
              "\n",
              "      <script>\n",
              "        const buttonEl =\n",
              "          document.querySelector('#df-f278fd77-eab5-4b83-bb9c-6817196540fa button.colab-df-convert');\n",
              "        buttonEl.style.display =\n",
              "          google.colab.kernel.accessAllowed ? 'block' : 'none';\n",
              "\n",
              "        async function convertToInteractive(key) {\n",
              "          const element = document.querySelector('#df-f278fd77-eab5-4b83-bb9c-6817196540fa');\n",
              "          const dataTable =\n",
              "            await google.colab.kernel.invokeFunction('convertToInteractive',\n",
              "                                                     [key], {});\n",
              "          if (!dataTable) return;\n",
              "\n",
              "          const docLinkHtml = 'Like what you see? Visit the ' +\n",
              "            '<a target=\"_blank\" href=https://colab.research.google.com/notebooks/data_table.ipynb>data table notebook</a>'\n",
              "            + ' to learn more about interactive tables.';\n",
              "          element.innerHTML = '';\n",
              "          dataTable['output_type'] = 'display_data';\n",
              "          await google.colab.output.renderOutput(dataTable, element);\n",
              "          const docLink = document.createElement('div');\n",
              "          docLink.innerHTML = docLinkHtml;\n",
              "          element.appendChild(docLink);\n",
              "        }\n",
              "      </script>\n",
              "    </div>\n",
              "  </div>\n",
              "  "
            ],
            "text/plain": [
              "      TARGET_FLAG  TARGET_AMT  ...  CAR_AGE             URBANICITY\n",
              "0               0         0.0  ...     18.0    Highly Urban/ Urban\n",
              "1               0         0.0  ...      1.0    Highly Urban/ Urban\n",
              "2               0         0.0  ...     10.0    Highly Urban/ Urban\n",
              "3               0         0.0  ...      6.0    Highly Urban/ Urban\n",
              "4               0         0.0  ...     17.0    Highly Urban/ Urban\n",
              "...           ...         ...  ...      ...                    ...\n",
              "8156            0         0.0  ...      8.0  z_Highly Rural/ Rural\n",
              "8157            0         0.0  ...     17.0    Highly Urban/ Urban\n",
              "8158            0         0.0  ...      1.0    Highly Urban/ Urban\n",
              "8159            0         0.0  ...     11.0    Highly Urban/ Urban\n",
              "8160            0         0.0  ...      9.0  z_Highly Rural/ Rural\n",
              "\n",
              "[8161 rows x 25 columns]"
            ]
          },
          "metadata": {},
          "execution_count": 10
        }
      ]
    },
    {
      "cell_type": "markdown",
      "source": [
        "# Data Analysis"
      ],
      "metadata": {
        "id": "xSOYH6KQeD5Z"
      }
    },
    {
      "cell_type": "code",
      "source": [
        "numerical_features = [\"KIDSDRIV\", \"AGE\", \"HOMEKIDS\", \"YOJ\", \"TRAVTIME\", \"TIF\", \"CLM_FREQ\", \"MVR_PTS\", \"CAR_AGE\"] + other_features\n",
        "Categorical_features = [\"PARENT1\", \"MSTATUS\", \"SEX\", \"EDUCATION\", \"JOB\", \"CAR_USE\", \"CAR_TYPE\", \"RED_CAR\", \"REVOKED\", \"URBANICITY\"]"
      ],
      "metadata": {
        "id": "QAhWNIqCYlm0"
      },
      "execution_count": 11,
      "outputs": []
    },
    {
      "cell_type": "markdown",
      "source": [
        "### TARGET_AMT"
      ],
      "metadata": {
        "id": "i8gjXFFIxj3K"
      }
    },
    {
      "cell_type": "code",
      "source": [
        "df_train[df_train.TARGET_FLAG==1].TARGET_AMT"
      ],
      "metadata": {
        "colab": {
          "base_uri": "https://localhost:8080/"
        },
        "id": "gczmiSzOvKJ9",
        "outputId": "2fbaaedb-1b82-4520-d912-7f2f33d41406"
      },
      "execution_count": 12,
      "outputs": [
        {
          "output_type": "execute_result",
          "data": {
            "text/plain": [
              "5       2946.000000\n",
              "7       4021.000000\n",
              "8       2501.000000\n",
              "10      6077.000000\n",
              "13      1267.000000\n",
              "           ...     \n",
              "8133    3106.000000\n",
              "8134     471.115458\n",
              "8137    3135.000000\n",
              "8146    1815.205097\n",
              "8148    2967.000000\n",
              "Name: TARGET_AMT, Length: 2153, dtype: float64"
            ]
          },
          "metadata": {},
          "execution_count": 12
        }
      ]
    },
    {
      "cell_type": "code",
      "source": [
        "Counter(df_train[df_train.TARGET_FLAG==0].TARGET_AMT)"
      ],
      "metadata": {
        "colab": {
          "base_uri": "https://localhost:8080/"
        },
        "id": "yIYppNIivKBX",
        "outputId": "3bc8a718-ae31-4350-9720-d3761a6ddfe2"
      },
      "execution_count": 13,
      "outputs": [
        {
          "output_type": "execute_result",
          "data": {
            "text/plain": [
              "Counter({0.0: 6008})"
            ]
          },
          "metadata": {},
          "execution_count": 13
        }
      ]
    },
    {
      "cell_type": "markdown",
      "source": [
        "\"*TARGET_AMT*\" is equal to 0 when \"*TARGET_FLAG*\" is equel to 0."
      ],
      "metadata": {
        "id": "Zff3J8-RxK1j"
      }
    },
    {
      "cell_type": "markdown",
      "source": [
        "## Numerical features : "
      ],
      "metadata": {
        "id": "4bDCeZgmkvaT"
      }
    },
    {
      "cell_type": "markdown",
      "source": [
        "### AGE"
      ],
      "metadata": {
        "id": "Y1WkTDL52lYB"
      }
    },
    {
      "cell_type": "code",
      "source": [
        "fig, ax = plt.subplots(figsize=(20,10))\n",
        "sns.histplot(ax = ax, data = df_train, x='AGE', hue ='TARGET_FLAG')\n",
        "plt.title(\"AGE histogram for each TARGET_FLAG value\")\n",
        "plt.show()"
      ],
      "metadata": {
        "colab": {
          "base_uri": "https://localhost:8080/",
          "height": 0
        },
        "id": "oYnUAzRMxpzb",
        "outputId": "045ea4c0-719d-4751-d860-4325ed5a1fb6"
      },
      "execution_count": 14,
      "outputs": [
        {
          "output_type": "display_data",
          "data": {
            "image/png": "[encoded data removed]",
            "text/plain": [
              "<Figure size 1440x720 with 1 Axes>"
            ]
          },
          "metadata": {
            "needs_background": "light"
          }
        }
      ]
    },
    {
      "cell_type": "markdown",
      "source": [
        "The AGE feature's distribution has a gaussian shape. The count of the 0_class of Target flags between the ages of 22 and 28 is greater than the 1_class. Maybe this means that people within this interval of age are more likely to be risky with a car.\n"
      ],
      "metadata": {
        "id": "R_Eqyc_Yx2H3"
      }
    },
    {
      "cell_type": "markdown",
      "source": [
        "### HOMEKIDS"
      ],
      "metadata": {
        "id": "WmcJNH9F2oa6"
      }
    },
    {
      "cell_type": "code",
      "source": [
        "fig, ax = plt.subplots(figsize=(20,10))\n",
        "sns.countplot(ax = ax, data = df_train, x='HOMEKIDS', hue ='TARGET_FLAG')\n",
        "plt.title(\"HOMEKIDS histogram for each TARGET_FLAG value\")\n",
        "plt.show()\n"
      ],
      "metadata": {
        "colab": {
          "base_uri": "https://localhost:8080/",
          "height": 0
        },
        "id": "YDpLPY9-yn_8",
        "outputId": "af467993-4136-46af-8242-dad361e14710"
      },
      "execution_count": 15,
      "outputs": [
        {
          "output_type": "display_data",
          "data": {
            "image/png": "[encoded data removed]",
            "text/plain": [
              "<Figure size 1440x720 with 1 Axes>"
            ]
          },
          "metadata": {
            "needs_background": "light"
          }
        }
      ]
    },
    {
      "cell_type": "code",
      "source": [
        "df_train[['TARGET_FLAG','HOMEKIDS']].groupby('HOMEKIDS').mean().sort_values(by='TARGET_FLAG')"
      ],
      "metadata": {
        "colab": {
          "base_uri": "https://localhost:8080/",
          "height": 0
        },
        "id": "ZWQ4QLG302NL",
        "outputId": "b87069c1-05b5-4500-9faf-500cc043af4c"
      },
      "execution_count": 16,
      "outputs": [
        {
          "output_type": "execute_result",
          "data": {
            "text/html": [
              "\n",
              "  <div id=\"df-000138f3-73a0-4d10-bd82-6abee03715c0\">\n",
              "    <div class=\"colab-df-container\">\n",
              "      <div>\n",
              "<style scoped>\n",
              "    .dataframe tbody tr th:only-of-type {\n",
              "        vertical-align: middle;\n",
              "    }\n",
              "\n",
              "    .dataframe tbody tr th {\n",
              "        vertical-align: top;\n",
              "    }\n",
              "\n",
              "    .dataframe thead th {\n",
              "        text-align: right;\n",
              "    }\n",
              "</style>\n",
              "<table border=\"1\" class=\"dataframe\">\n",
              "  <thead>\n",
              "    <tr style=\"text-align: right;\">\n",
              "      <th></th>\n",
              "      <th>TARGET_FLAG</th>\n",
              "    </tr>\n",
              "    <tr>\n",
              "      <th>HOMEKIDS</th>\n",
              "      <th></th>\n",
              "    </tr>\n",
              "  </thead>\n",
              "  <tbody>\n",
              "    <tr>\n",
              "      <th>0</th>\n",
              "      <td>0.221781</td>\n",
              "    </tr>\n",
              "    <tr>\n",
              "      <th>1</th>\n",
              "      <td>0.338137</td>\n",
              "    </tr>\n",
              "    <tr>\n",
              "      <th>3</th>\n",
              "      <td>0.341246</td>\n",
              "    </tr>\n",
              "    <tr>\n",
              "      <th>2</th>\n",
              "      <td>0.341682</td>\n",
              "    </tr>\n",
              "    <tr>\n",
              "      <th>4</th>\n",
              "      <td>0.347561</td>\n",
              "    </tr>\n",
              "    <tr>\n",
              "      <th>5</th>\n",
              "      <td>0.428571</td>\n",
              "    </tr>\n",
              "  </tbody>\n",
              "</table>\n",
              "</div>\n",
              "      <button class=\"colab-df-convert\" onclick=\"convertToInteractive('df-000138f3-73a0-4d10-bd82-6abee03715c0')\"\n",
              "              title=\"Convert this dataframe to an interactive table.\"\n",
              "              style=\"display:none;\">\n",
              "        \n",
              "  <svg xmlns=\"http://www.w3.org/2000/svg\" height=\"24px\"viewBox=\"0 0 24 24\"\n",
              "       width=\"24px\">\n",
              "    <path d=\"M0 0h24v24H0V0z\" fill=\"none\"/>\n",
              "    <path d=\"M18.56 5.44l.94 2.06.94-2.06 2.06-.94-2.06-.94-.94-2.06-.94 2.06-2.06.94zm-11 1L8.5 8.5l.94-2.06 2.06-.94-2.06-.94L8.5 2.5l-.94 2.06-2.06.94zm10 10l.94 2.06.94-2.06 2.06-.94-2.06-.94-.94-2.06-.94 2.06-2.06.94z\"/><path d=\"M17.41 7.96l-1.37-1.37c-.4-.4-.92-.59-1.43-.59-.52 0-1.04.2-1.43.59L10.3 9.45l-7.72 7.72c-.78.78-.78 2.05 0 2.83L4 21.41c.39.39.9.59 1.41.59.51 0 1.02-.2 1.41-.59l7.78-7.78 2.81-2.81c.8-.78.8-2.07 0-2.86zM5.41 20L4 18.59l7.72-7.72 1.47 1.35L5.41 20z\"/>\n",
              "  </svg>\n",
              "      </button>\n",
              "      \n",
              "  <style>\n",
              "    .colab-df-container {\n",
              "      display:flex;\n",
              "      flex-wrap:wrap;\n",
              "      gap: 12px;\n",
              "    }\n",
              "\n",
              "    .colab-df-convert {\n",
              "      background-color: #E8F0FE;\n",
              "      border: none;\n",
              "      border-radius: 50%;\n",
              "      cursor: pointer;\n",
              "      display: none;\n",
              "      fill: #1967D2;\n",
              "      height: 32px;\n",
              "      padding: 0 0 0 0;\n",
              "      width: 32px;\n",
              "    }\n",
              "\n",
              "    .colab-df-convert:hover {\n",
              "      background-color: #E2EBFA;\n",
              "      box-shadow: 0px 1px 2px rgba(60, 64, 67, 0.3), 0px 1px 3px 1px rgba(60, 64, 67, 0.15);\n",
              "      fill: #174EA6;\n",
              "    }\n",
              "\n",
              "    [theme=dark] .colab-df-convert {\n",
              "      background-color: #3B4455;\n",
              "      fill: #D2E3FC;\n",
              "    }\n",
              "\n",
              "    [theme=dark] .colab-df-convert:hover {\n",
              "      background-color: #434B5C;\n",
              "      box-shadow: 0px 1px 3px 1px rgba(0, 0, 0, 0.15);\n",
              "      filter: drop-shadow(0px 1px 2px rgba(0, 0, 0, 0.3));\n",
              "      fill: #FFFFFF;\n",
              "    }\n",
              "  </style>\n",
              "\n",
              "      <script>\n",
              "        const buttonEl =\n",
              "          document.querySelector('#df-000138f3-73a0-4d10-bd82-6abee03715c0 button.colab-df-convert');\n",
              "        buttonEl.style.display =\n",
              "          google.colab.kernel.accessAllowed ? 'block' : 'none';\n",
              "\n",
              "        async function convertToInteractive(key) {\n",
              "          const element = document.querySelector('#df-000138f3-73a0-4d10-bd82-6abee03715c0');\n",
              "          const dataTable =\n",
              "            await google.colab.kernel.invokeFunction('convertToInteractive',\n",
              "                                                     [key], {});\n",
              "          if (!dataTable) return;\n",
              "\n",
              "          const docLinkHtml = 'Like what you see? Visit the ' +\n",
              "            '<a target=\"_blank\" href=https://colab.research.google.com/notebooks/data_table.ipynb>data table notebook</a>'\n",
              "            + ' to learn more about interactive tables.';\n",
              "          element.innerHTML = '';\n",
              "          dataTable['output_type'] = 'display_data';\n",
              "          await google.colab.output.renderOutput(dataTable, element);\n",
              "          const docLink = document.createElement('div');\n",
              "          docLink.innerHTML = docLinkHtml;\n",
              "          element.appendChild(docLink);\n",
              "        }\n",
              "      </script>\n",
              "    </div>\n",
              "  </div>\n",
              "  "
            ],
            "text/plain": [
              "          TARGET_FLAG\n",
              "HOMEKIDS             \n",
              "0            0.221781\n",
              "1            0.338137\n",
              "3            0.341246\n",
              "2            0.341682\n",
              "4            0.347561\n",
              "5            0.428571"
            ]
          },
          "metadata": {},
          "execution_count": 16
        }
      ]
    },
    {
      "cell_type": "markdown",
      "source": [
        "This feature indicates the number of kids in the family. The more kids you have the more risky you are."
      ],
      "metadata": {
        "id": "GwnAklcp1oM-"
      }
    },
    {
      "cell_type": "markdown",
      "source": [
        "### INCOME"
      ],
      "metadata": {
        "id": "DC2iZjXq2sqP"
      }
    },
    {
      "cell_type": "code",
      "source": [
        "fig, ax = plt.subplots(figsize=(20,10))\n",
        "sns.histplot(ax = ax, data = df_train, x='INCOME', hue ='TARGET_FLAG', bins=50)\n",
        "plt.title(\"INCOME histogram for each Target value\")\n",
        "plt.show()"
      ],
      "metadata": {
        "colab": {
          "base_uri": "https://localhost:8080/",
          "height": 0
        },
        "id": "6JqWy3PAkuIA",
        "outputId": "cd6d71d0-3c46-4829-c609-781b9ecee426"
      },
      "execution_count": 17,
      "outputs": [
        {
          "output_type": "display_data",
          "data": {
            "image/png": "[encoded data removed]",
            "text/plain": [
              "<Figure size 1440x720 with 1 Axes>"
            ]
          },
          "metadata": {
            "needs_background": "light"
          }
        }
      ]
    },
    {
      "cell_type": "markdown",
      "source": [
        "From this histogram we can deduce that the INCOME is an important feature. chances of TARGET_FLAG to be equal to 0 decrease when the income increases. Thus, the greater the income the less risky the person is."
      ],
      "metadata": {
        "id": "GKeNCeJ14EZn"
      }
    },
    {
      "cell_type": "markdown",
      "source": [
        "### KIDSDRIV"
      ],
      "metadata": {
        "id": "I4Ix1qgqD0nu"
      }
    },
    {
      "cell_type": "code",
      "source": [
        "fig, ax = plt.subplots(figsize=(20,10))\n",
        "sns.countplot(ax = ax, data = df_train, x='KIDSDRIV', hue ='TARGET_FLAG')\n",
        "plt.title(\"KIDSDRIV histogram for each Target value\")\n",
        "plt.show()"
      ],
      "metadata": {
        "colab": {
          "base_uri": "https://localhost:8080/",
          "height": 0
        },
        "id": "wGpiKSzN-SyW",
        "outputId": "2d36b299-167c-4c0d-bbbf-8dd5518297c1"
      },
      "execution_count": 18,
      "outputs": [
        {
          "output_type": "display_data",
          "data": {
            "image/png": "[encoded data removed]",
            "text/plain": [
              "<Figure size 1440x720 with 1 Axes>"
            ]
          },
          "metadata": {
            "needs_background": "light"
          }
        }
      ]
    },
    {
      "cell_type": "code",
      "source": [
        "df_train[['TARGET_FLAG','KIDSDRIV']].groupby('KIDSDRIV').mean().sort_values(by='TARGET_FLAG')"
      ],
      "metadata": {
        "colab": {
          "base_uri": "https://localhost:8080/",
          "height": 0
        },
        "id": "BOT7rp55EOPD",
        "outputId": "4eda2d8e-fe72-410f-8735-cbc4c75cae91"
      },
      "execution_count": 19,
      "outputs": [
        {
          "output_type": "execute_result",
          "data": {
            "text/html": [
              "\n",
              "  <div id=\"df-b4342eb3-8830-45dd-b29b-ad5e1ebcfa86\">\n",
              "    <div class=\"colab-df-container\">\n",
              "      <div>\n",
              "<style scoped>\n",
              "    .dataframe tbody tr th:only-of-type {\n",
              "        vertical-align: middle;\n",
              "    }\n",
              "\n",
              "    .dataframe tbody tr th {\n",
              "        vertical-align: top;\n",
              "    }\n",
              "\n",
              "    .dataframe thead th {\n",
              "        text-align: right;\n",
              "    }\n",
              "</style>\n",
              "<table border=\"1\" class=\"dataframe\">\n",
              "  <thead>\n",
              "    <tr style=\"text-align: right;\">\n",
              "      <th></th>\n",
              "      <th>TARGET_FLAG</th>\n",
              "    </tr>\n",
              "    <tr>\n",
              "      <th>KIDSDRIV</th>\n",
              "      <th></th>\n",
              "    </tr>\n",
              "  </thead>\n",
              "  <tbody>\n",
              "    <tr>\n",
              "      <th>0</th>\n",
              "      <td>0.246936</td>\n",
              "    </tr>\n",
              "    <tr>\n",
              "      <th>1</th>\n",
              "      <td>0.371069</td>\n",
              "    </tr>\n",
              "    <tr>\n",
              "      <th>2</th>\n",
              "      <td>0.397849</td>\n",
              "    </tr>\n",
              "    <tr>\n",
              "      <th>3</th>\n",
              "      <td>0.500000</td>\n",
              "    </tr>\n",
              "    <tr>\n",
              "      <th>4</th>\n",
              "      <td>0.500000</td>\n",
              "    </tr>\n",
              "  </tbody>\n",
              "</table>\n",
              "</div>\n",
              "      <button class=\"colab-df-convert\" onclick=\"convertToInteractive('df-b4342eb3-8830-45dd-b29b-ad5e1ebcfa86')\"\n",
              "              title=\"Convert this dataframe to an interactive table.\"\n",
              "              style=\"display:none;\">\n",
              "        \n",
              "  <svg xmlns=\"http://www.w3.org/2000/svg\" height=\"24px\"viewBox=\"0 0 24 24\"\n",
              "       width=\"24px\">\n",
              "    <path d=\"M0 0h24v24H0V0z\" fill=\"none\"/>\n",
              "    <path d=\"M18.56 5.44l.94 2.06.94-2.06 2.06-.94-2.06-.94-.94-2.06-.94 2.06-2.06.94zm-11 1L8.5 8.5l.94-2.06 2.06-.94-2.06-.94L8.5 2.5l-.94 2.06-2.06.94zm10 10l.94 2.06.94-2.06 2.06-.94-2.06-.94-.94-2.06-.94 2.06-2.06.94z\"/><path d=\"M17.41 7.96l-1.37-1.37c-.4-.4-.92-.59-1.43-.59-.52 0-1.04.2-1.43.59L10.3 9.45l-7.72 7.72c-.78.78-.78 2.05 0 2.83L4 21.41c.39.39.9.59 1.41.59.51 0 1.02-.2 1.41-.59l7.78-7.78 2.81-2.81c.8-.78.8-2.07 0-2.86zM5.41 20L4 18.59l7.72-7.72 1.47 1.35L5.41 20z\"/>\n",
              "  </svg>\n",
              "      </button>\n",
              "      \n",
              "  <style>\n",
              "    .colab-df-container {\n",
              "      display:flex;\n",
              "      flex-wrap:wrap;\n",
              "      gap: 12px;\n",
              "    }\n",
              "\n",
              "    .colab-df-convert {\n",
              "      background-color: #E8F0FE;\n",
              "      border: none;\n",
              "      border-radius: 50%;\n",
              "      cursor: pointer;\n",
              "      display: none;\n",
              "      fill: #1967D2;\n",
              "      height: 32px;\n",
              "      padding: 0 0 0 0;\n",
              "      width: 32px;\n",
              "    }\n",
              "\n",
              "    .colab-df-convert:hover {\n",
              "      background-color: #E2EBFA;\n",
              "      box-shadow: 0px 1px 2px rgba(60, 64, 67, 0.3), 0px 1px 3px 1px rgba(60, 64, 67, 0.15);\n",
              "      fill: #174EA6;\n",
              "    }\n",
              "\n",
              "    [theme=dark] .colab-df-convert {\n",
              "      background-color: #3B4455;\n",
              "      fill: #D2E3FC;\n",
              "    }\n",
              "\n",
              "    [theme=dark] .colab-df-convert:hover {\n",
              "      background-color: #434B5C;\n",
              "      box-shadow: 0px 1px 3px 1px rgba(0, 0, 0, 0.15);\n",
              "      filter: drop-shadow(0px 1px 2px rgba(0, 0, 0, 0.3));\n",
              "      fill: #FFFFFF;\n",
              "    }\n",
              "  </style>\n",
              "\n",
              "      <script>\n",
              "        const buttonEl =\n",
              "          document.querySelector('#df-b4342eb3-8830-45dd-b29b-ad5e1ebcfa86 button.colab-df-convert');\n",
              "        buttonEl.style.display =\n",
              "          google.colab.kernel.accessAllowed ? 'block' : 'none';\n",
              "\n",
              "        async function convertToInteractive(key) {\n",
              "          const element = document.querySelector('#df-b4342eb3-8830-45dd-b29b-ad5e1ebcfa86');\n",
              "          const dataTable =\n",
              "            await google.colab.kernel.invokeFunction('convertToInteractive',\n",
              "                                                     [key], {});\n",
              "          if (!dataTable) return;\n",
              "\n",
              "          const docLinkHtml = 'Like what you see? Visit the ' +\n",
              "            '<a target=\"_blank\" href=https://colab.research.google.com/notebooks/data_table.ipynb>data table notebook</a>'\n",
              "            + ' to learn more about interactive tables.';\n",
              "          element.innerHTML = '';\n",
              "          dataTable['output_type'] = 'display_data';\n",
              "          await google.colab.output.renderOutput(dataTable, element);\n",
              "          const docLink = document.createElement('div');\n",
              "          docLink.innerHTML = docLinkHtml;\n",
              "          element.appendChild(docLink);\n",
              "        }\n",
              "      </script>\n",
              "    </div>\n",
              "  </div>\n",
              "  "
            ],
            "text/plain": [
              "          TARGET_FLAG\n",
              "KIDSDRIV             \n",
              "0            0.246936\n",
              "1            0.371069\n",
              "2            0.397849\n",
              "3            0.500000\n",
              "4            0.500000"
            ]
          },
          "metadata": {},
          "execution_count": 19
        }
      ]
    },
    {
      "cell_type": "markdown",
      "source": [
        "This feature may tell us about the number of kids who can drive, which should be taken in consideration as these kids will probably be driving the car in matter. Thus it is logical to see a greater risk for people with more kids."
      ],
      "metadata": {
        "id": "xotrQVu3EUGD"
      }
    },
    {
      "cell_type": "markdown",
      "source": [
        "### CLM_FREQ"
      ],
      "metadata": {
        "id": "wzSNc1eTlxcG"
      }
    },
    {
      "cell_type": "code",
      "source": [
        "fig, ax = plt.subplots(figsize=(20,10))\n",
        "sns.countplot(ax = ax, data = df_train, x='CLM_FREQ', hue ='TARGET_FLAG')\n",
        "plt.title(\"CLM_FREQ histogram for each Target value\")\n",
        "plt.show()"
      ],
      "metadata": {
        "colab": {
          "base_uri": "https://localhost:8080/",
          "height": 0
        },
        "id": "7ql3y-kPlzvh",
        "outputId": "fb6570dd-e817-4806-b043-70e45c6620fe"
      },
      "execution_count": 20,
      "outputs": [
        {
          "output_type": "display_data",
          "data": {
            "image/png": "[encoded data removed]",
            "text/plain": [
              "<Figure size 1440x720 with 1 Axes>"
            ]
          },
          "metadata": {
            "needs_background": "light"
          }
        }
      ]
    },
    {
      "cell_type": "markdown",
      "source": [
        "Assuming that this feature is about the claim frequency for each individual, it is logical to see persons who have made previous claims to be more risky. That explains why the proportions of risky classes is higher when CLM_FREQ is higher."
      ],
      "metadata": {
        "id": "CBJ8UXX038FQ"
      }
    },
    {
      "cell_type": "markdown",
      "source": [
        "### MVR_PTS"
      ],
      "metadata": {
        "id": "27janbn34pV6"
      }
    },
    {
      "cell_type": "code",
      "source": [
        "df_train[['TARGET_FLAG','MVR_PTS']].groupby('MVR_PTS').mean().sort_values(by='TARGET_FLAG')"
      ],
      "metadata": {
        "colab": {
          "base_uri": "https://localhost:8080/",
          "height": 0
        },
        "id": "_J4oUxYS42BQ",
        "outputId": "314ffb55-83f1-46a0-a8de-4e380bc70e1d"
      },
      "execution_count": 21,
      "outputs": [
        {
          "output_type": "execute_result",
          "data": {
            "text/html": [
              "\n",
              "  <div id=\"df-14bad372-ace6-4503-8ee6-d3f15cc0f7c0\">\n",
              "    <div class=\"colab-df-container\">\n",
              "      <div>\n",
              "<style scoped>\n",
              "    .dataframe tbody tr th:only-of-type {\n",
              "        vertical-align: middle;\n",
              "    }\n",
              "\n",
              "    .dataframe tbody tr th {\n",
              "        vertical-align: top;\n",
              "    }\n",
              "\n",
              "    .dataframe thead th {\n",
              "        text-align: right;\n",
              "    }\n",
              "</style>\n",
              "<table border=\"1\" class=\"dataframe\">\n",
              "  <thead>\n",
              "    <tr style=\"text-align: right;\">\n",
              "      <th></th>\n",
              "      <th>TARGET_FLAG</th>\n",
              "    </tr>\n",
              "    <tr>\n",
              "      <th>MVR_PTS</th>\n",
              "      <th></th>\n",
              "    </tr>\n",
              "  </thead>\n",
              "  <tbody>\n",
              "    <tr>\n",
              "      <th>0</th>\n",
              "      <td>0.192349</td>\n",
              "    </tr>\n",
              "    <tr>\n",
              "      <th>1</th>\n",
              "      <td>0.234226</td>\n",
              "    </tr>\n",
              "    <tr>\n",
              "      <th>2</th>\n",
              "      <td>0.279536</td>\n",
              "    </tr>\n",
              "    <tr>\n",
              "      <th>3</th>\n",
              "      <td>0.317942</td>\n",
              "    </tr>\n",
              "    <tr>\n",
              "      <th>4</th>\n",
              "      <td>0.342237</td>\n",
              "    </tr>\n",
              "    <tr>\n",
              "      <th>5</th>\n",
              "      <td>0.373434</td>\n",
              "    </tr>\n",
              "    <tr>\n",
              "      <th>6</th>\n",
              "      <td>0.390977</td>\n",
              "    </tr>\n",
              "    <tr>\n",
              "      <th>7</th>\n",
              "      <td>0.562874</td>\n",
              "    </tr>\n",
              "    <tr>\n",
              "      <th>8</th>\n",
              "      <td>0.654762</td>\n",
              "    </tr>\n",
              "    <tr>\n",
              "      <th>9</th>\n",
              "      <td>0.733333</td>\n",
              "    </tr>\n",
              "    <tr>\n",
              "      <th>11</th>\n",
              "      <td>0.818182</td>\n",
              "    </tr>\n",
              "    <tr>\n",
              "      <th>10</th>\n",
              "      <td>0.846154</td>\n",
              "    </tr>\n",
              "    <tr>\n",
              "      <th>13</th>\n",
              "      <td>1.000000</td>\n",
              "    </tr>\n",
              "  </tbody>\n",
              "</table>\n",
              "</div>\n",
              "      <button class=\"colab-df-convert\" onclick=\"convertToInteractive('df-14bad372-ace6-4503-8ee6-d3f15cc0f7c0')\"\n",
              "              title=\"Convert this dataframe to an interactive table.\"\n",
              "              style=\"display:none;\">\n",
              "        \n",
              "  <svg xmlns=\"http://www.w3.org/2000/svg\" height=\"24px\"viewBox=\"0 0 24 24\"\n",
              "       width=\"24px\">\n",
              "    <path d=\"M0 0h24v24H0V0z\" fill=\"none\"/>\n",
              "    <path d=\"M18.56 5.44l.94 2.06.94-2.06 2.06-.94-2.06-.94-.94-2.06-.94 2.06-2.06.94zm-11 1L8.5 8.5l.94-2.06 2.06-.94-2.06-.94L8.5 2.5l-.94 2.06-2.06.94zm10 10l.94 2.06.94-2.06 2.06-.94-2.06-.94-.94-2.06-.94 2.06-2.06.94z\"/><path d=\"M17.41 7.96l-1.37-1.37c-.4-.4-.92-.59-1.43-.59-.52 0-1.04.2-1.43.59L10.3 9.45l-7.72 7.72c-.78.78-.78 2.05 0 2.83L4 21.41c.39.39.9.59 1.41.59.51 0 1.02-.2 1.41-.59l7.78-7.78 2.81-2.81c.8-.78.8-2.07 0-2.86zM5.41 20L4 18.59l7.72-7.72 1.47 1.35L5.41 20z\"/>\n",
              "  </svg>\n",
              "      </button>\n",
              "      \n",
              "  <style>\n",
              "    .colab-df-container {\n",
              "      display:flex;\n",
              "      flex-wrap:wrap;\n",
              "      gap: 12px;\n",
              "    }\n",
              "\n",
              "    .colab-df-convert {\n",
              "      background-color: #E8F0FE;\n",
              "      border: none;\n",
              "      border-radius: 50%;\n",
              "      cursor: pointer;\n",
              "      display: none;\n",
              "      fill: #1967D2;\n",
              "      height: 32px;\n",
              "      padding: 0 0 0 0;\n",
              "      width: 32px;\n",
              "    }\n",
              "\n",
              "    .colab-df-convert:hover {\n",
              "      background-color: #E2EBFA;\n",
              "      box-shadow: 0px 1px 2px rgba(60, 64, 67, 0.3), 0px 1px 3px 1px rgba(60, 64, 67, 0.15);\n",
              "      fill: #174EA6;\n",
              "    }\n",
              "\n",
              "    [theme=dark] .colab-df-convert {\n",
              "      background-color: #3B4455;\n",
              "      fill: #D2E3FC;\n",
              "    }\n",
              "\n",
              "    [theme=dark] .colab-df-convert:hover {\n",
              "      background-color: #434B5C;\n",
              "      box-shadow: 0px 1px 3px 1px rgba(0, 0, 0, 0.15);\n",
              "      filter: drop-shadow(0px 1px 2px rgba(0, 0, 0, 0.3));\n",
              "      fill: #FFFFFF;\n",
              "    }\n",
              "  </style>\n",
              "\n",
              "      <script>\n",
              "        const buttonEl =\n",
              "          document.querySelector('#df-14bad372-ace6-4503-8ee6-d3f15cc0f7c0 button.colab-df-convert');\n",
              "        buttonEl.style.display =\n",
              "          google.colab.kernel.accessAllowed ? 'block' : 'none';\n",
              "\n",
              "        async function convertToInteractive(key) {\n",
              "          const element = document.querySelector('#df-14bad372-ace6-4503-8ee6-d3f15cc0f7c0');\n",
              "          const dataTable =\n",
              "            await google.colab.kernel.invokeFunction('convertToInteractive',\n",
              "                                                     [key], {});\n",
              "          if (!dataTable) return;\n",
              "\n",
              "          const docLinkHtml = 'Like what you see? Visit the ' +\n",
              "            '<a target=\"_blank\" href=https://colab.research.google.com/notebooks/data_table.ipynb>data table notebook</a>'\n",
              "            + ' to learn more about interactive tables.';\n",
              "          element.innerHTML = '';\n",
              "          dataTable['output_type'] = 'display_data';\n",
              "          await google.colab.output.renderOutput(dataTable, element);\n",
              "          const docLink = document.createElement('div');\n",
              "          docLink.innerHTML = docLinkHtml;\n",
              "          element.appendChild(docLink);\n",
              "        }\n",
              "      </script>\n",
              "    </div>\n",
              "  </div>\n",
              "  "
            ],
            "text/plain": [
              "         TARGET_FLAG\n",
              "MVR_PTS             \n",
              "0           0.192349\n",
              "1           0.234226\n",
              "2           0.279536\n",
              "3           0.317942\n",
              "4           0.342237\n",
              "5           0.373434\n",
              "6           0.390977\n",
              "7           0.562874\n",
              "8           0.654762\n",
              "9           0.733333\n",
              "11          0.818182\n",
              "10          0.846154\n",
              "13          1.000000"
            ]
          },
          "metadata": {},
          "execution_count": 21
        }
      ]
    },
    {
      "cell_type": "markdown",
      "source": [
        "MVR_PTS stands for motor vehicle report which is a history of any past violations or accidents you've had as a driver. Insurance companies use it when calculating your rates. It is evident that when this number increases the risk is higher."
      ],
      "metadata": {
        "id": "M4hyuw9c48lp"
      }
    },
    {
      "cell_type": "markdown",
      "source": [
        "## Categorical features : "
      ],
      "metadata": {
        "id": "4FJtHlijF4iE"
      }
    },
    {
      "cell_type": "markdown",
      "source": [
        "### PARENT1"
      ],
      "metadata": {
        "id": "g6UKUOIDN-wf"
      }
    },
    {
      "cell_type": "code",
      "source": [
        "fig, ax = plt.subplots(figsize=(20,10))\n",
        "sns.countplot(ax = ax, data = df_train, x='PARENT1', hue ='TARGET_FLAG')\n",
        "# plt.xticks(rotation = 0)\n",
        "plt.title(\"PARENT1 histogram for each Target value\")\n",
        "plt.show()"
      ],
      "metadata": {
        "colab": {
          "base_uri": "https://localhost:8080/",
          "height": 0
        },
        "id": "ui2td2FUmoWU",
        "outputId": "c307f6f2-0125-428b-bc0c-f0f9f32d80d3"
      },
      "execution_count": 22,
      "outputs": [
        {
          "output_type": "display_data",
          "data": {
            "image/png": "[encoded data removed]",
            "text/plain": [
              "<Figure size 1440x720 with 1 Axes>"
            ]
          },
          "metadata": {
            "needs_background": "light"
          }
        }
      ]
    },
    {
      "cell_type": "markdown",
      "source": [
        "This feature may be indicating whether the person in question is a parent. Being a parent means that they have kids (probably even kids who drive). "
      ],
      "metadata": {
        "id": "qBbG6NIrGeXk"
      }
    },
    {
      "cell_type": "markdown",
      "source": [
        "### SEX"
      ],
      "metadata": {
        "id": "43PsmGdLN7QX"
      }
    },
    {
      "cell_type": "code",
      "source": [
        "df_train[['TARGET_FLAG','SEX']].groupby('SEX').mean().sort_values(by='TARGET_FLAG')"
      ],
      "metadata": {
        "colab": {
          "base_uri": "https://localhost:8080/",
          "height": 0
        },
        "id": "j68Ab8tSN0CK",
        "outputId": "eb95bcec-b224-4468-c8c8-8cefb29eb823"
      },
      "execution_count": 23,
      "outputs": [
        {
          "output_type": "execute_result",
          "data": {
            "text/html": [
              "\n",
              "  <div id=\"df-dfde02d9-0ce5-4eed-ab9b-7b901d97fd47\">\n",
              "    <div class=\"colab-df-container\">\n",
              "      <div>\n",
              "<style scoped>\n",
              "    .dataframe tbody tr th:only-of-type {\n",
              "        vertical-align: middle;\n",
              "    }\n",
              "\n",
              "    .dataframe tbody tr th {\n",
              "        vertical-align: top;\n",
              "    }\n",
              "\n",
              "    .dataframe thead th {\n",
              "        text-align: right;\n",
              "    }\n",
              "</style>\n",
              "<table border=\"1\" class=\"dataframe\">\n",
              "  <thead>\n",
              "    <tr style=\"text-align: right;\">\n",
              "      <th></th>\n",
              "      <th>TARGET_FLAG</th>\n",
              "    </tr>\n",
              "    <tr>\n",
              "      <th>SEX</th>\n",
              "      <th></th>\n",
              "    </tr>\n",
              "  </thead>\n",
              "  <tbody>\n",
              "    <tr>\n",
              "      <th>M</th>\n",
              "      <td>0.253830</td>\n",
              "    </tr>\n",
              "    <tr>\n",
              "      <th>z_F</th>\n",
              "      <td>0.272457</td>\n",
              "    </tr>\n",
              "  </tbody>\n",
              "</table>\n",
              "</div>\n",
              "      <button class=\"colab-df-convert\" onclick=\"convertToInteractive('df-dfde02d9-0ce5-4eed-ab9b-7b901d97fd47')\"\n",
              "              title=\"Convert this dataframe to an interactive table.\"\n",
              "              style=\"display:none;\">\n",
              "        \n",
              "  <svg xmlns=\"http://www.w3.org/2000/svg\" height=\"24px\"viewBox=\"0 0 24 24\"\n",
              "       width=\"24px\">\n",
              "    <path d=\"M0 0h24v24H0V0z\" fill=\"none\"/>\n",
              "    <path d=\"M18.56 5.44l.94 2.06.94-2.06 2.06-.94-2.06-.94-.94-2.06-.94 2.06-2.06.94zm-11 1L8.5 8.5l.94-2.06 2.06-.94-2.06-.94L8.5 2.5l-.94 2.06-2.06.94zm10 10l.94 2.06.94-2.06 2.06-.94-2.06-.94-.94-2.06-.94 2.06-2.06.94z\"/><path d=\"M17.41 7.96l-1.37-1.37c-.4-.4-.92-.59-1.43-.59-.52 0-1.04.2-1.43.59L10.3 9.45l-7.72 7.72c-.78.78-.78 2.05 0 2.83L4 21.41c.39.39.9.59 1.41.59.51 0 1.02-.2 1.41-.59l7.78-7.78 2.81-2.81c.8-.78.8-2.07 0-2.86zM5.41 20L4 18.59l7.72-7.72 1.47 1.35L5.41 20z\"/>\n",
              "  </svg>\n",
              "      </button>\n",
              "      \n",
              "  <style>\n",
              "    .colab-df-container {\n",
              "      display:flex;\n",
              "      flex-wrap:wrap;\n",
              "      gap: 12px;\n",
              "    }\n",
              "\n",
              "    .colab-df-convert {\n",
              "      background-color: #E8F0FE;\n",
              "      border: none;\n",
              "      border-radius: 50%;\n",
              "      cursor: pointer;\n",
              "      display: none;\n",
              "      fill: #1967D2;\n",
              "      height: 32px;\n",
              "      padding: 0 0 0 0;\n",
              "      width: 32px;\n",
              "    }\n",
              "\n",
              "    .colab-df-convert:hover {\n",
              "      background-color: #E2EBFA;\n",
              "      box-shadow: 0px 1px 2px rgba(60, 64, 67, 0.3), 0px 1px 3px 1px rgba(60, 64, 67, 0.15);\n",
              "      fill: #174EA6;\n",
              "    }\n",
              "\n",
              "    [theme=dark] .colab-df-convert {\n",
              "      background-color: #3B4455;\n",
              "      fill: #D2E3FC;\n",
              "    }\n",
              "\n",
              "    [theme=dark] .colab-df-convert:hover {\n",
              "      background-color: #434B5C;\n",
              "      box-shadow: 0px 1px 3px 1px rgba(0, 0, 0, 0.15);\n",
              "      filter: drop-shadow(0px 1px 2px rgba(0, 0, 0, 0.3));\n",
              "      fill: #FFFFFF;\n",
              "    }\n",
              "  </style>\n",
              "\n",
              "      <script>\n",
              "        const buttonEl =\n",
              "          document.querySelector('#df-dfde02d9-0ce5-4eed-ab9b-7b901d97fd47 button.colab-df-convert');\n",
              "        buttonEl.style.display =\n",
              "          google.colab.kernel.accessAllowed ? 'block' : 'none';\n",
              "\n",
              "        async function convertToInteractive(key) {\n",
              "          const element = document.querySelector('#df-dfde02d9-0ce5-4eed-ab9b-7b901d97fd47');\n",
              "          const dataTable =\n",
              "            await google.colab.kernel.invokeFunction('convertToInteractive',\n",
              "                                                     [key], {});\n",
              "          if (!dataTable) return;\n",
              "\n",
              "          const docLinkHtml = 'Like what you see? Visit the ' +\n",
              "            '<a target=\"_blank\" href=https://colab.research.google.com/notebooks/data_table.ipynb>data table notebook</a>'\n",
              "            + ' to learn more about interactive tables.';\n",
              "          element.innerHTML = '';\n",
              "          dataTable['output_type'] = 'display_data';\n",
              "          await google.colab.output.renderOutput(dataTable, element);\n",
              "          const docLink = document.createElement('div');\n",
              "          docLink.innerHTML = docLinkHtml;\n",
              "          element.appendChild(docLink);\n",
              "        }\n",
              "      </script>\n",
              "    </div>\n",
              "  </div>\n",
              "  "
            ],
            "text/plain": [
              "     TARGET_FLAG\n",
              "SEX             \n",
              "M       0.253830\n",
              "z_F     0.272457"
            ]
          },
          "metadata": {},
          "execution_count": 23
        }
      ]
    },
    {
      "cell_type": "markdown",
      "source": [
        "The SEX is not an important feature as the probability of being risky knowing that you are a Male or a Female is almost the same."
      ],
      "metadata": {
        "id": "3mSg5g8pDP-U"
      }
    },
    {
      "cell_type": "markdown",
      "source": [
        "### MSTATUS"
      ],
      "metadata": {
        "id": "HWYSxULiOCib"
      }
    },
    {
      "cell_type": "code",
      "source": [
        "df_train[['TARGET_FLAG','MSTATUS']].groupby('MSTATUS').mean().sort_values(by='TARGET_FLAG')"
      ],
      "metadata": {
        "colab": {
          "base_uri": "https://localhost:8080/",
          "height": 0
        },
        "id": "E2OsbhkhOHGk",
        "outputId": "4dd80a4d-835a-46fd-f6d0-c06de0de68c9"
      },
      "execution_count": 24,
      "outputs": [
        {
          "output_type": "execute_result",
          "data": {
            "text/html": [
              "\n",
              "  <div id=\"df-b8c60690-24ab-42be-be0e-9b80ea43e716\">\n",
              "    <div class=\"colab-df-container\">\n",
              "      <div>\n",
              "<style scoped>\n",
              "    .dataframe tbody tr th:only-of-type {\n",
              "        vertical-align: middle;\n",
              "    }\n",
              "\n",
              "    .dataframe tbody tr th {\n",
              "        vertical-align: top;\n",
              "    }\n",
              "\n",
              "    .dataframe thead th {\n",
              "        text-align: right;\n",
              "    }\n",
              "</style>\n",
              "<table border=\"1\" class=\"dataframe\">\n",
              "  <thead>\n",
              "    <tr style=\"text-align: right;\">\n",
              "      <th></th>\n",
              "      <th>TARGET_FLAG</th>\n",
              "    </tr>\n",
              "    <tr>\n",
              "      <th>MSTATUS</th>\n",
              "      <th></th>\n",
              "    </tr>\n",
              "  </thead>\n",
              "  <tbody>\n",
              "    <tr>\n",
              "      <th>Yes</th>\n",
              "      <td>0.215161</td>\n",
              "    </tr>\n",
              "    <tr>\n",
              "      <th>z_No</th>\n",
              "      <td>0.336700</td>\n",
              "    </tr>\n",
              "  </tbody>\n",
              "</table>\n",
              "</div>\n",
              "      <button class=\"colab-df-convert\" onclick=\"convertToInteractive('df-b8c60690-24ab-42be-be0e-9b80ea43e716')\"\n",
              "              title=\"Convert this dataframe to an interactive table.\"\n",
              "              style=\"display:none;\">\n",
              "        \n",
              "  <svg xmlns=\"http://www.w3.org/2000/svg\" height=\"24px\"viewBox=\"0 0 24 24\"\n",
              "       width=\"24px\">\n",
              "    <path d=\"M0 0h24v24H0V0z\" fill=\"none\"/>\n",
              "    <path d=\"M18.56 5.44l.94 2.06.94-2.06 2.06-.94-2.06-.94-.94-2.06-.94 2.06-2.06.94zm-11 1L8.5 8.5l.94-2.06 2.06-.94-2.06-.94L8.5 2.5l-.94 2.06-2.06.94zm10 10l.94 2.06.94-2.06 2.06-.94-2.06-.94-.94-2.06-.94 2.06-2.06.94z\"/><path d=\"M17.41 7.96l-1.37-1.37c-.4-.4-.92-.59-1.43-.59-.52 0-1.04.2-1.43.59L10.3 9.45l-7.72 7.72c-.78.78-.78 2.05 0 2.83L4 21.41c.39.39.9.59 1.41.59.51 0 1.02-.2 1.41-.59l7.78-7.78 2.81-2.81c.8-.78.8-2.07 0-2.86zM5.41 20L4 18.59l7.72-7.72 1.47 1.35L5.41 20z\"/>\n",
              "  </svg>\n",
              "      </button>\n",
              "      \n",
              "  <style>\n",
              "    .colab-df-container {\n",
              "      display:flex;\n",
              "      flex-wrap:wrap;\n",
              "      gap: 12px;\n",
              "    }\n",
              "\n",
              "    .colab-df-convert {\n",
              "      background-color: #E8F0FE;\n",
              "      border: none;\n",
              "      border-radius: 50%;\n",
              "      cursor: pointer;\n",
              "      display: none;\n",
              "      fill: #1967D2;\n",
              "      height: 32px;\n",
              "      padding: 0 0 0 0;\n",
              "      width: 32px;\n",
              "    }\n",
              "\n",
              "    .colab-df-convert:hover {\n",
              "      background-color: #E2EBFA;\n",
              "      box-shadow: 0px 1px 2px rgba(60, 64, 67, 0.3), 0px 1px 3px 1px rgba(60, 64, 67, 0.15);\n",
              "      fill: #174EA6;\n",
              "    }\n",
              "\n",
              "    [theme=dark] .colab-df-convert {\n",
              "      background-color: #3B4455;\n",
              "      fill: #D2E3FC;\n",
              "    }\n",
              "\n",
              "    [theme=dark] .colab-df-convert:hover {\n",
              "      background-color: #434B5C;\n",
              "      box-shadow: 0px 1px 3px 1px rgba(0, 0, 0, 0.15);\n",
              "      filter: drop-shadow(0px 1px 2px rgba(0, 0, 0, 0.3));\n",
              "      fill: #FFFFFF;\n",
              "    }\n",
              "  </style>\n",
              "\n",
              "      <script>\n",
              "        const buttonEl =\n",
              "          document.querySelector('#df-b8c60690-24ab-42be-be0e-9b80ea43e716 button.colab-df-convert');\n",
              "        buttonEl.style.display =\n",
              "          google.colab.kernel.accessAllowed ? 'block' : 'none';\n",
              "\n",
              "        async function convertToInteractive(key) {\n",
              "          const element = document.querySelector('#df-b8c60690-24ab-42be-be0e-9b80ea43e716');\n",
              "          const dataTable =\n",
              "            await google.colab.kernel.invokeFunction('convertToInteractive',\n",
              "                                                     [key], {});\n",
              "          if (!dataTable) return;\n",
              "\n",
              "          const docLinkHtml = 'Like what you see? Visit the ' +\n",
              "            '<a target=\"_blank\" href=https://colab.research.google.com/notebooks/data_table.ipynb>data table notebook</a>'\n",
              "            + ' to learn more about interactive tables.';\n",
              "          element.innerHTML = '';\n",
              "          dataTable['output_type'] = 'display_data';\n",
              "          await google.colab.output.renderOutput(dataTable, element);\n",
              "          const docLink = document.createElement('div');\n",
              "          docLink.innerHTML = docLinkHtml;\n",
              "          element.appendChild(docLink);\n",
              "        }\n",
              "      </script>\n",
              "    </div>\n",
              "  </div>\n",
              "  "
            ],
            "text/plain": [
              "         TARGET_FLAG\n",
              "MSTATUS             \n",
              "Yes         0.215161\n",
              "z_No        0.336700"
            ]
          },
          "metadata": {},
          "execution_count": 24
        }
      ]
    },
    {
      "cell_type": "markdown",
      "source": [
        "### EDUCATION"
      ],
      "metadata": {
        "id": "0m5wH_fOOQJs"
      }
    },
    {
      "cell_type": "code",
      "source": [
        "df_train[['TARGET_FLAG','EDUCATION']].groupby('EDUCATION').mean().sort_values(by='TARGET_FLAG')"
      ],
      "metadata": {
        "colab": {
          "base_uri": "https://localhost:8080/",
          "height": 0
        },
        "id": "ynHUYbVIrrY7",
        "outputId": "cf0f184f-a263-4ad6-dc20-ae26431b828c"
      },
      "execution_count": 25,
      "outputs": [
        {
          "output_type": "execute_result",
          "data": {
            "text/html": [
              "\n",
              "  <div id=\"df-e0bfbe7b-580f-4c23-b5d1-9bd87bf73fc0\">\n",
              "    <div class=\"colab-df-container\">\n",
              "      <div>\n",
              "<style scoped>\n",
              "    .dataframe tbody tr th:only-of-type {\n",
              "        vertical-align: middle;\n",
              "    }\n",
              "\n",
              "    .dataframe tbody tr th {\n",
              "        vertical-align: top;\n",
              "    }\n",
              "\n",
              "    .dataframe thead th {\n",
              "        text-align: right;\n",
              "    }\n",
              "</style>\n",
              "<table border=\"1\" class=\"dataframe\">\n",
              "  <thead>\n",
              "    <tr style=\"text-align: right;\">\n",
              "      <th></th>\n",
              "      <th>TARGET_FLAG</th>\n",
              "    </tr>\n",
              "    <tr>\n",
              "      <th>EDUCATION</th>\n",
              "      <th></th>\n",
              "    </tr>\n",
              "  </thead>\n",
              "  <tbody>\n",
              "    <tr>\n",
              "      <th>PhD</th>\n",
              "      <td>0.171703</td>\n",
              "    </tr>\n",
              "    <tr>\n",
              "      <th>Masters</th>\n",
              "      <td>0.197226</td>\n",
              "    </tr>\n",
              "    <tr>\n",
              "      <th>Bachelors</th>\n",
              "      <td>0.233274</td>\n",
              "    </tr>\n",
              "    <tr>\n",
              "      <th>&lt;High School</th>\n",
              "      <td>0.320033</td>\n",
              "    </tr>\n",
              "    <tr>\n",
              "      <th>z_High School</th>\n",
              "      <td>0.340343</td>\n",
              "    </tr>\n",
              "  </tbody>\n",
              "</table>\n",
              "</div>\n",
              "      <button class=\"colab-df-convert\" onclick=\"convertToInteractive('df-e0bfbe7b-580f-4c23-b5d1-9bd87bf73fc0')\"\n",
              "              title=\"Convert this dataframe to an interactive table.\"\n",
              "              style=\"display:none;\">\n",
              "        \n",
              "  <svg xmlns=\"http://www.w3.org/2000/svg\" height=\"24px\"viewBox=\"0 0 24 24\"\n",
              "       width=\"24px\">\n",
              "    <path d=\"M0 0h24v24H0V0z\" fill=\"none\"/>\n",
              "    <path d=\"M18.56 5.44l.94 2.06.94-2.06 2.06-.94-2.06-.94-.94-2.06-.94 2.06-2.06.94zm-11 1L8.5 8.5l.94-2.06 2.06-.94-2.06-.94L8.5 2.5l-.94 2.06-2.06.94zm10 10l.94 2.06.94-2.06 2.06-.94-2.06-.94-.94-2.06-.94 2.06-2.06.94z\"/><path d=\"M17.41 7.96l-1.37-1.37c-.4-.4-.92-.59-1.43-.59-.52 0-1.04.2-1.43.59L10.3 9.45l-7.72 7.72c-.78.78-.78 2.05 0 2.83L4 21.41c.39.39.9.59 1.41.59.51 0 1.02-.2 1.41-.59l7.78-7.78 2.81-2.81c.8-.78.8-2.07 0-2.86zM5.41 20L4 18.59l7.72-7.72 1.47 1.35L5.41 20z\"/>\n",
              "  </svg>\n",
              "      </button>\n",
              "      \n",
              "  <style>\n",
              "    .colab-df-container {\n",
              "      display:flex;\n",
              "      flex-wrap:wrap;\n",
              "      gap: 12px;\n",
              "    }\n",
              "\n",
              "    .colab-df-convert {\n",
              "      background-color: #E8F0FE;\n",
              "      border: none;\n",
              "      border-radius: 50%;\n",
              "      cursor: pointer;\n",
              "      display: none;\n",
              "      fill: #1967D2;\n",
              "      height: 32px;\n",
              "      padding: 0 0 0 0;\n",
              "      width: 32px;\n",
              "    }\n",
              "\n",
              "    .colab-df-convert:hover {\n",
              "      background-color: #E2EBFA;\n",
              "      box-shadow: 0px 1px 2px rgba(60, 64, 67, 0.3), 0px 1px 3px 1px rgba(60, 64, 67, 0.15);\n",
              "      fill: #174EA6;\n",
              "    }\n",
              "\n",
              "    [theme=dark] .colab-df-convert {\n",
              "      background-color: #3B4455;\n",
              "      fill: #D2E3FC;\n",
              "    }\n",
              "\n",
              "    [theme=dark] .colab-df-convert:hover {\n",
              "      background-color: #434B5C;\n",
              "      box-shadow: 0px 1px 3px 1px rgba(0, 0, 0, 0.15);\n",
              "      filter: drop-shadow(0px 1px 2px rgba(0, 0, 0, 0.3));\n",
              "      fill: #FFFFFF;\n",
              "    }\n",
              "  </style>\n",
              "\n",
              "      <script>\n",
              "        const buttonEl =\n",
              "          document.querySelector('#df-e0bfbe7b-580f-4c23-b5d1-9bd87bf73fc0 button.colab-df-convert');\n",
              "        buttonEl.style.display =\n",
              "          google.colab.kernel.accessAllowed ? 'block' : 'none';\n",
              "\n",
              "        async function convertToInteractive(key) {\n",
              "          const element = document.querySelector('#df-e0bfbe7b-580f-4c23-b5d1-9bd87bf73fc0');\n",
              "          const dataTable =\n",
              "            await google.colab.kernel.invokeFunction('convertToInteractive',\n",
              "                                                     [key], {});\n",
              "          if (!dataTable) return;\n",
              "\n",
              "          const docLinkHtml = 'Like what you see? Visit the ' +\n",
              "            '<a target=\"_blank\" href=https://colab.research.google.com/notebooks/data_table.ipynb>data table notebook</a>'\n",
              "            + ' to learn more about interactive tables.';\n",
              "          element.innerHTML = '';\n",
              "          dataTable['output_type'] = 'display_data';\n",
              "          await google.colab.output.renderOutput(dataTable, element);\n",
              "          const docLink = document.createElement('div');\n",
              "          docLink.innerHTML = docLinkHtml;\n",
              "          element.appendChild(docLink);\n",
              "        }\n",
              "      </script>\n",
              "    </div>\n",
              "  </div>\n",
              "  "
            ],
            "text/plain": [
              "               TARGET_FLAG\n",
              "EDUCATION                 \n",
              "PhD               0.171703\n",
              "Masters           0.197226\n",
              "Bachelors         0.233274\n",
              "<High School      0.320033\n",
              "z_High School     0.340343"
            ]
          },
          "metadata": {},
          "execution_count": 25
        }
      ]
    },
    {
      "cell_type": "markdown",
      "source": [
        "The probability of getting 0 as a TARGET_FLAG is greater for more educated people "
      ],
      "metadata": {
        "id": "EF2lF87hOpiN"
      }
    },
    {
      "cell_type": "markdown",
      "source": [
        "### JOB"
      ],
      "metadata": {
        "id": "OXpvBhF9PIuf"
      }
    },
    {
      "cell_type": "code",
      "source": [
        "df_train[['TARGET_FLAG','JOB']].groupby('JOB').mean().sort_values(by='TARGET_FLAG')"
      ],
      "metadata": {
        "colab": {
          "base_uri": "https://localhost:8080/",
          "height": 0
        },
        "id": "LCqM5RH7v3iV",
        "outputId": "b0d564ed-673b-483d-9655-175d7d7315d7"
      },
      "execution_count": 26,
      "outputs": [
        {
          "output_type": "execute_result",
          "data": {
            "text/html": [
              "\n",
              "  <div id=\"df-fd960e1a-4ced-4636-a47f-d359c45d6c3d\">\n",
              "    <div class=\"colab-df-container\">\n",
              "      <div>\n",
              "<style scoped>\n",
              "    .dataframe tbody tr th:only-of-type {\n",
              "        vertical-align: middle;\n",
              "    }\n",
              "\n",
              "    .dataframe tbody tr th {\n",
              "        vertical-align: top;\n",
              "    }\n",
              "\n",
              "    .dataframe thead th {\n",
              "        text-align: right;\n",
              "    }\n",
              "</style>\n",
              "<table border=\"1\" class=\"dataframe\">\n",
              "  <thead>\n",
              "    <tr style=\"text-align: right;\">\n",
              "      <th></th>\n",
              "      <th>TARGET_FLAG</th>\n",
              "    </tr>\n",
              "    <tr>\n",
              "      <th>JOB</th>\n",
              "      <th></th>\n",
              "    </tr>\n",
              "  </thead>\n",
              "  <tbody>\n",
              "    <tr>\n",
              "      <th>Doctor</th>\n",
              "      <td>0.117886</td>\n",
              "    </tr>\n",
              "    <tr>\n",
              "      <th>Manager</th>\n",
              "      <td>0.138664</td>\n",
              "    </tr>\n",
              "    <tr>\n",
              "      <th>Lawyer</th>\n",
              "      <td>0.183234</td>\n",
              "    </tr>\n",
              "    <tr>\n",
              "      <th>Professional</th>\n",
              "      <td>0.221128</td>\n",
              "    </tr>\n",
              "    <tr>\n",
              "      <th>Home Maker</th>\n",
              "      <td>0.280811</td>\n",
              "    </tr>\n",
              "    <tr>\n",
              "      <th>Clerical</th>\n",
              "      <td>0.291896</td>\n",
              "    </tr>\n",
              "    <tr>\n",
              "      <th>z_Blue Collar</th>\n",
              "      <td>0.347397</td>\n",
              "    </tr>\n",
              "    <tr>\n",
              "      <th>Student</th>\n",
              "      <td>0.373596</td>\n",
              "    </tr>\n",
              "  </tbody>\n",
              "</table>\n",
              "</div>\n",
              "      <button class=\"colab-df-convert\" onclick=\"convertToInteractive('df-fd960e1a-4ced-4636-a47f-d359c45d6c3d')\"\n",
              "              title=\"Convert this dataframe to an interactive table.\"\n",
              "              style=\"display:none;\">\n",
              "        \n",
              "  <svg xmlns=\"http://www.w3.org/2000/svg\" height=\"24px\"viewBox=\"0 0 24 24\"\n",
              "       width=\"24px\">\n",
              "    <path d=\"M0 0h24v24H0V0z\" fill=\"none\"/>\n",
              "    <path d=\"M18.56 5.44l.94 2.06.94-2.06 2.06-.94-2.06-.94-.94-2.06-.94 2.06-2.06.94zm-11 1L8.5 8.5l.94-2.06 2.06-.94-2.06-.94L8.5 2.5l-.94 2.06-2.06.94zm10 10l.94 2.06.94-2.06 2.06-.94-2.06-.94-.94-2.06-.94 2.06-2.06.94z\"/><path d=\"M17.41 7.96l-1.37-1.37c-.4-.4-.92-.59-1.43-.59-.52 0-1.04.2-1.43.59L10.3 9.45l-7.72 7.72c-.78.78-.78 2.05 0 2.83L4 21.41c.39.39.9.59 1.41.59.51 0 1.02-.2 1.41-.59l7.78-7.78 2.81-2.81c.8-.78.8-2.07 0-2.86zM5.41 20L4 18.59l7.72-7.72 1.47 1.35L5.41 20z\"/>\n",
              "  </svg>\n",
              "      </button>\n",
              "      \n",
              "  <style>\n",
              "    .colab-df-container {\n",
              "      display:flex;\n",
              "      flex-wrap:wrap;\n",
              "      gap: 12px;\n",
              "    }\n",
              "\n",
              "    .colab-df-convert {\n",
              "      background-color: #E8F0FE;\n",
              "      border: none;\n",
              "      border-radius: 50%;\n",
              "      cursor: pointer;\n",
              "      display: none;\n",
              "      fill: #1967D2;\n",
              "      height: 32px;\n",
              "      padding: 0 0 0 0;\n",
              "      width: 32px;\n",
              "    }\n",
              "\n",
              "    .colab-df-convert:hover {\n",
              "      background-color: #E2EBFA;\n",
              "      box-shadow: 0px 1px 2px rgba(60, 64, 67, 0.3), 0px 1px 3px 1px rgba(60, 64, 67, 0.15);\n",
              "      fill: #174EA6;\n",
              "    }\n",
              "\n",
              "    [theme=dark] .colab-df-convert {\n",
              "      background-color: #3B4455;\n",
              "      fill: #D2E3FC;\n",
              "    }\n",
              "\n",
              "    [theme=dark] .colab-df-convert:hover {\n",
              "      background-color: #434B5C;\n",
              "      box-shadow: 0px 1px 3px 1px rgba(0, 0, 0, 0.15);\n",
              "      filter: drop-shadow(0px 1px 2px rgba(0, 0, 0, 0.3));\n",
              "      fill: #FFFFFF;\n",
              "    }\n",
              "  </style>\n",
              "\n",
              "      <script>\n",
              "        const buttonEl =\n",
              "          document.querySelector('#df-fd960e1a-4ced-4636-a47f-d359c45d6c3d button.colab-df-convert');\n",
              "        buttonEl.style.display =\n",
              "          google.colab.kernel.accessAllowed ? 'block' : 'none';\n",
              "\n",
              "        async function convertToInteractive(key) {\n",
              "          const element = document.querySelector('#df-fd960e1a-4ced-4636-a47f-d359c45d6c3d');\n",
              "          const dataTable =\n",
              "            await google.colab.kernel.invokeFunction('convertToInteractive',\n",
              "                                                     [key], {});\n",
              "          if (!dataTable) return;\n",
              "\n",
              "          const docLinkHtml = 'Like what you see? Visit the ' +\n",
              "            '<a target=\"_blank\" href=https://colab.research.google.com/notebooks/data_table.ipynb>data table notebook</a>'\n",
              "            + ' to learn more about interactive tables.';\n",
              "          element.innerHTML = '';\n",
              "          dataTable['output_type'] = 'display_data';\n",
              "          await google.colab.output.renderOutput(dataTable, element);\n",
              "          const docLink = document.createElement('div');\n",
              "          docLink.innerHTML = docLinkHtml;\n",
              "          element.appendChild(docLink);\n",
              "        }\n",
              "      </script>\n",
              "    </div>\n",
              "  </div>\n",
              "  "
            ],
            "text/plain": [
              "               TARGET_FLAG\n",
              "JOB                       \n",
              "Doctor            0.117886\n",
              "Manager           0.138664\n",
              "Lawyer            0.183234\n",
              "Professional      0.221128\n",
              "Home Maker        0.280811\n",
              "Clerical          0.291896\n",
              "z_Blue Collar     0.347397\n",
              "Student           0.373596"
            ]
          },
          "metadata": {},
          "execution_count": 26
        }
      ]
    },
    {
      "cell_type": "markdown",
      "source": [
        "### CAR_USE"
      ],
      "metadata": {
        "id": "JIn21OcMf-Tp"
      }
    },
    {
      "cell_type": "code",
      "source": [
        "df_train[['TARGET_FLAG','CAR_USE']].groupby('CAR_USE').mean().sort_values(by='TARGET_FLAG')"
      ],
      "metadata": {
        "colab": {
          "base_uri": "https://localhost:8080/",
          "height": 0
        },
        "id": "EWe_FKlsv3fl",
        "outputId": "a4ce2698-1848-48e8-cfad-c34543a75f84"
      },
      "execution_count": 27,
      "outputs": [
        {
          "output_type": "execute_result",
          "data": {
            "text/html": [
              "\n",
              "  <div id=\"df-e1ad4865-98ca-45b5-a5d1-4c95f93857ef\">\n",
              "    <div class=\"colab-df-container\">\n",
              "      <div>\n",
              "<style scoped>\n",
              "    .dataframe tbody tr th:only-of-type {\n",
              "        vertical-align: middle;\n",
              "    }\n",
              "\n",
              "    .dataframe tbody tr th {\n",
              "        vertical-align: top;\n",
              "    }\n",
              "\n",
              "    .dataframe thead th {\n",
              "        text-align: right;\n",
              "    }\n",
              "</style>\n",
              "<table border=\"1\" class=\"dataframe\">\n",
              "  <thead>\n",
              "    <tr style=\"text-align: right;\">\n",
              "      <th></th>\n",
              "      <th>TARGET_FLAG</th>\n",
              "    </tr>\n",
              "    <tr>\n",
              "      <th>CAR_USE</th>\n",
              "      <th></th>\n",
              "    </tr>\n",
              "  </thead>\n",
              "  <tbody>\n",
              "    <tr>\n",
              "      <th>Private</th>\n",
              "      <td>0.215511</td>\n",
              "    </tr>\n",
              "    <tr>\n",
              "      <th>Commercial</th>\n",
              "      <td>0.345659</td>\n",
              "    </tr>\n",
              "  </tbody>\n",
              "</table>\n",
              "</div>\n",
              "      <button class=\"colab-df-convert\" onclick=\"convertToInteractive('df-e1ad4865-98ca-45b5-a5d1-4c95f93857ef')\"\n",
              "              title=\"Convert this dataframe to an interactive table.\"\n",
              "              style=\"display:none;\">\n",
              "        \n",
              "  <svg xmlns=\"http://www.w3.org/2000/svg\" height=\"24px\"viewBox=\"0 0 24 24\"\n",
              "       width=\"24px\">\n",
              "    <path d=\"M0 0h24v24H0V0z\" fill=\"none\"/>\n",
              "    <path d=\"M18.56 5.44l.94 2.06.94-2.06 2.06-.94-2.06-.94-.94-2.06-.94 2.06-2.06.94zm-11 1L8.5 8.5l.94-2.06 2.06-.94-2.06-.94L8.5 2.5l-.94 2.06-2.06.94zm10 10l.94 2.06.94-2.06 2.06-.94-2.06-.94-.94-2.06-.94 2.06-2.06.94z\"/><path d=\"M17.41 7.96l-1.37-1.37c-.4-.4-.92-.59-1.43-.59-.52 0-1.04.2-1.43.59L10.3 9.45l-7.72 7.72c-.78.78-.78 2.05 0 2.83L4 21.41c.39.39.9.59 1.41.59.51 0 1.02-.2 1.41-.59l7.78-7.78 2.81-2.81c.8-.78.8-2.07 0-2.86zM5.41 20L4 18.59l7.72-7.72 1.47 1.35L5.41 20z\"/>\n",
              "  </svg>\n",
              "      </button>\n",
              "      \n",
              "  <style>\n",
              "    .colab-df-container {\n",
              "      display:flex;\n",
              "      flex-wrap:wrap;\n",
              "      gap: 12px;\n",
              "    }\n",
              "\n",
              "    .colab-df-convert {\n",
              "      background-color: #E8F0FE;\n",
              "      border: none;\n",
              "      border-radius: 50%;\n",
              "      cursor: pointer;\n",
              "      display: none;\n",
              "      fill: #1967D2;\n",
              "      height: 32px;\n",
              "      padding: 0 0 0 0;\n",
              "      width: 32px;\n",
              "    }\n",
              "\n",
              "    .colab-df-convert:hover {\n",
              "      background-color: #E2EBFA;\n",
              "      box-shadow: 0px 1px 2px rgba(60, 64, 67, 0.3), 0px 1px 3px 1px rgba(60, 64, 67, 0.15);\n",
              "      fill: #174EA6;\n",
              "    }\n",
              "\n",
              "    [theme=dark] .colab-df-convert {\n",
              "      background-color: #3B4455;\n",
              "      fill: #D2E3FC;\n",
              "    }\n",
              "\n",
              "    [theme=dark] .colab-df-convert:hover {\n",
              "      background-color: #434B5C;\n",
              "      box-shadow: 0px 1px 3px 1px rgba(0, 0, 0, 0.15);\n",
              "      filter: drop-shadow(0px 1px 2px rgba(0, 0, 0, 0.3));\n",
              "      fill: #FFFFFF;\n",
              "    }\n",
              "  </style>\n",
              "\n",
              "      <script>\n",
              "        const buttonEl =\n",
              "          document.querySelector('#df-e1ad4865-98ca-45b5-a5d1-4c95f93857ef button.colab-df-convert');\n",
              "        buttonEl.style.display =\n",
              "          google.colab.kernel.accessAllowed ? 'block' : 'none';\n",
              "\n",
              "        async function convertToInteractive(key) {\n",
              "          const element = document.querySelector('#df-e1ad4865-98ca-45b5-a5d1-4c95f93857ef');\n",
              "          const dataTable =\n",
              "            await google.colab.kernel.invokeFunction('convertToInteractive',\n",
              "                                                     [key], {});\n",
              "          if (!dataTable) return;\n",
              "\n",
              "          const docLinkHtml = 'Like what you see? Visit the ' +\n",
              "            '<a target=\"_blank\" href=https://colab.research.google.com/notebooks/data_table.ipynb>data table notebook</a>'\n",
              "            + ' to learn more about interactive tables.';\n",
              "          element.innerHTML = '';\n",
              "          dataTable['output_type'] = 'display_data';\n",
              "          await google.colab.output.renderOutput(dataTable, element);\n",
              "          const docLink = document.createElement('div');\n",
              "          docLink.innerHTML = docLinkHtml;\n",
              "          element.appendChild(docLink);\n",
              "        }\n",
              "      </script>\n",
              "    </div>\n",
              "  </div>\n",
              "  "
            ],
            "text/plain": [
              "            TARGET_FLAG\n",
              "CAR_USE                \n",
              "Private        0.215511\n",
              "Commercial     0.345659"
            ]
          },
          "metadata": {},
          "execution_count": 27
        }
      ]
    },
    {
      "cell_type": "markdown",
      "source": [
        "### CAR_TYPE"
      ],
      "metadata": {
        "id": "8Q7oM-AwgQsZ"
      }
    },
    {
      "cell_type": "code",
      "source": [
        "df_train[['TARGET_FLAG','CAR_TYPE']].groupby('CAR_TYPE').mean().sort_values(by='TARGET_FLAG')"
      ],
      "metadata": {
        "colab": {
          "base_uri": "https://localhost:8080/",
          "height": 0
        },
        "id": "PZ5ef0uRfn1a",
        "outputId": "8be7f358-8b96-4326-caca-029f8f7367f2"
      },
      "execution_count": 28,
      "outputs": [
        {
          "output_type": "execute_result",
          "data": {
            "text/html": [
              "\n",
              "  <div id=\"df-721de480-2a23-4c0d-a228-739de2dc8a0c\">\n",
              "    <div class=\"colab-df-container\">\n",
              "      <div>\n",
              "<style scoped>\n",
              "    .dataframe tbody tr th:only-of-type {\n",
              "        vertical-align: middle;\n",
              "    }\n",
              "\n",
              "    .dataframe tbody tr th {\n",
              "        vertical-align: top;\n",
              "    }\n",
              "\n",
              "    .dataframe thead th {\n",
              "        text-align: right;\n",
              "    }\n",
              "</style>\n",
              "<table border=\"1\" class=\"dataframe\">\n",
              "  <thead>\n",
              "    <tr style=\"text-align: right;\">\n",
              "      <th></th>\n",
              "      <th>TARGET_FLAG</th>\n",
              "    </tr>\n",
              "    <tr>\n",
              "      <th>CAR_TYPE</th>\n",
              "      <th></th>\n",
              "    </tr>\n",
              "  </thead>\n",
              "  <tbody>\n",
              "    <tr>\n",
              "      <th>Minivan</th>\n",
              "      <td>0.162704</td>\n",
              "    </tr>\n",
              "    <tr>\n",
              "      <th>Panel Truck</th>\n",
              "      <td>0.263314</td>\n",
              "    </tr>\n",
              "    <tr>\n",
              "      <th>Van</th>\n",
              "      <td>0.268000</td>\n",
              "    </tr>\n",
              "    <tr>\n",
              "      <th>z_SUV</th>\n",
              "      <td>0.295554</td>\n",
              "    </tr>\n",
              "    <tr>\n",
              "      <th>Pickup</th>\n",
              "      <td>0.318934</td>\n",
              "    </tr>\n",
              "    <tr>\n",
              "      <th>Sports Car</th>\n",
              "      <td>0.335171</td>\n",
              "    </tr>\n",
              "  </tbody>\n",
              "</table>\n",
              "</div>\n",
              "      <button class=\"colab-df-convert\" onclick=\"convertToInteractive('df-721de480-2a23-4c0d-a228-739de2dc8a0c')\"\n",
              "              title=\"Convert this dataframe to an interactive table.\"\n",
              "              style=\"display:none;\">\n",
              "        \n",
              "  <svg xmlns=\"http://www.w3.org/2000/svg\" height=\"24px\"viewBox=\"0 0 24 24\"\n",
              "       width=\"24px\">\n",
              "    <path d=\"M0 0h24v24H0V0z\" fill=\"none\"/>\n",
              "    <path d=\"M18.56 5.44l.94 2.06.94-2.06 2.06-.94-2.06-.94-.94-2.06-.94 2.06-2.06.94zm-11 1L8.5 8.5l.94-2.06 2.06-.94-2.06-.94L8.5 2.5l-.94 2.06-2.06.94zm10 10l.94 2.06.94-2.06 2.06-.94-2.06-.94-.94-2.06-.94 2.06-2.06.94z\"/><path d=\"M17.41 7.96l-1.37-1.37c-.4-.4-.92-.59-1.43-.59-.52 0-1.04.2-1.43.59L10.3 9.45l-7.72 7.72c-.78.78-.78 2.05 0 2.83L4 21.41c.39.39.9.59 1.41.59.51 0 1.02-.2 1.41-.59l7.78-7.78 2.81-2.81c.8-.78.8-2.07 0-2.86zM5.41 20L4 18.59l7.72-7.72 1.47 1.35L5.41 20z\"/>\n",
              "  </svg>\n",
              "      </button>\n",
              "      \n",
              "  <style>\n",
              "    .colab-df-container {\n",
              "      display:flex;\n",
              "      flex-wrap:wrap;\n",
              "      gap: 12px;\n",
              "    }\n",
              "\n",
              "    .colab-df-convert {\n",
              "      background-color: #E8F0FE;\n",
              "      border: none;\n",
              "      border-radius: 50%;\n",
              "      cursor: pointer;\n",
              "      display: none;\n",
              "      fill: #1967D2;\n",
              "      height: 32px;\n",
              "      padding: 0 0 0 0;\n",
              "      width: 32px;\n",
              "    }\n",
              "\n",
              "    .colab-df-convert:hover {\n",
              "      background-color: #E2EBFA;\n",
              "      box-shadow: 0px 1px 2px rgba(60, 64, 67, 0.3), 0px 1px 3px 1px rgba(60, 64, 67, 0.15);\n",
              "      fill: #174EA6;\n",
              "    }\n",
              "\n",
              "    [theme=dark] .colab-df-convert {\n",
              "      background-color: #3B4455;\n",
              "      fill: #D2E3FC;\n",
              "    }\n",
              "\n",
              "    [theme=dark] .colab-df-convert:hover {\n",
              "      background-color: #434B5C;\n",
              "      box-shadow: 0px 1px 3px 1px rgba(0, 0, 0, 0.15);\n",
              "      filter: drop-shadow(0px 1px 2px rgba(0, 0, 0, 0.3));\n",
              "      fill: #FFFFFF;\n",
              "    }\n",
              "  </style>\n",
              "\n",
              "      <script>\n",
              "        const buttonEl =\n",
              "          document.querySelector('#df-721de480-2a23-4c0d-a228-739de2dc8a0c button.colab-df-convert');\n",
              "        buttonEl.style.display =\n",
              "          google.colab.kernel.accessAllowed ? 'block' : 'none';\n",
              "\n",
              "        async function convertToInteractive(key) {\n",
              "          const element = document.querySelector('#df-721de480-2a23-4c0d-a228-739de2dc8a0c');\n",
              "          const dataTable =\n",
              "            await google.colab.kernel.invokeFunction('convertToInteractive',\n",
              "                                                     [key], {});\n",
              "          if (!dataTable) return;\n",
              "\n",
              "          const docLinkHtml = 'Like what you see? Visit the ' +\n",
              "            '<a target=\"_blank\" href=https://colab.research.google.com/notebooks/data_table.ipynb>data table notebook</a>'\n",
              "            + ' to learn more about interactive tables.';\n",
              "          element.innerHTML = '';\n",
              "          dataTable['output_type'] = 'display_data';\n",
              "          await google.colab.output.renderOutput(dataTable, element);\n",
              "          const docLink = document.createElement('div');\n",
              "          docLink.innerHTML = docLinkHtml;\n",
              "          element.appendChild(docLink);\n",
              "        }\n",
              "      </script>\n",
              "    </div>\n",
              "  </div>\n",
              "  "
            ],
            "text/plain": [
              "             TARGET_FLAG\n",
              "CAR_TYPE                \n",
              "Minivan         0.162704\n",
              "Panel Truck     0.263314\n",
              "Van             0.268000\n",
              "z_SUV           0.295554\n",
              "Pickup          0.318934\n",
              "Sports Car      0.335171"
            ]
          },
          "metadata": {},
          "execution_count": 28
        }
      ]
    },
    {
      "cell_type": "markdown",
      "source": [
        "### REVOKED"
      ],
      "metadata": {
        "id": "MET-pV2NgT6T"
      }
    },
    {
      "cell_type": "code",
      "source": [
        "df_train[['TARGET_FLAG','REVOKED']].groupby('REVOKED').mean().sort_values(by='TARGET_FLAG')"
      ],
      "metadata": {
        "colab": {
          "base_uri": "https://localhost:8080/",
          "height": 0
        },
        "id": "64DVUrGxgUUX",
        "outputId": "4a32b518-842f-446c-880e-f7ab0f5727e4"
      },
      "execution_count": 29,
      "outputs": [
        {
          "output_type": "execute_result",
          "data": {
            "text/html": [
              "\n",
              "  <div id=\"df-9f1a6341-f980-4d02-8522-1f8a2c5b7289\">\n",
              "    <div class=\"colab-df-container\">\n",
              "      <div>\n",
              "<style scoped>\n",
              "    .dataframe tbody tr th:only-of-type {\n",
              "        vertical-align: middle;\n",
              "    }\n",
              "\n",
              "    .dataframe tbody tr th {\n",
              "        vertical-align: top;\n",
              "    }\n",
              "\n",
              "    .dataframe thead th {\n",
              "        text-align: right;\n",
              "    }\n",
              "</style>\n",
              "<table border=\"1\" class=\"dataframe\">\n",
              "  <thead>\n",
              "    <tr style=\"text-align: right;\">\n",
              "      <th></th>\n",
              "      <th>TARGET_FLAG</th>\n",
              "    </tr>\n",
              "    <tr>\n",
              "      <th>REVOKED</th>\n",
              "      <th></th>\n",
              "    </tr>\n",
              "  </thead>\n",
              "  <tbody>\n",
              "    <tr>\n",
              "      <th>No</th>\n",
              "      <td>0.238793</td>\n",
              "    </tr>\n",
              "    <tr>\n",
              "      <th>Yes</th>\n",
              "      <td>0.443000</td>\n",
              "    </tr>\n",
              "  </tbody>\n",
              "</table>\n",
              "</div>\n",
              "      <button class=\"colab-df-convert\" onclick=\"convertToInteractive('df-9f1a6341-f980-4d02-8522-1f8a2c5b7289')\"\n",
              "              title=\"Convert this dataframe to an interactive table.\"\n",
              "              style=\"display:none;\">\n",
              "        \n",
              "  <svg xmlns=\"http://www.w3.org/2000/svg\" height=\"24px\"viewBox=\"0 0 24 24\"\n",
              "       width=\"24px\">\n",
              "    <path d=\"M0 0h24v24H0V0z\" fill=\"none\"/>\n",
              "    <path d=\"M18.56 5.44l.94 2.06.94-2.06 2.06-.94-2.06-.94-.94-2.06-.94 2.06-2.06.94zm-11 1L8.5 8.5l.94-2.06 2.06-.94-2.06-.94L8.5 2.5l-.94 2.06-2.06.94zm10 10l.94 2.06.94-2.06 2.06-.94-2.06-.94-.94-2.06-.94 2.06-2.06.94z\"/><path d=\"M17.41 7.96l-1.37-1.37c-.4-.4-.92-.59-1.43-.59-.52 0-1.04.2-1.43.59L10.3 9.45l-7.72 7.72c-.78.78-.78 2.05 0 2.83L4 21.41c.39.39.9.59 1.41.59.51 0 1.02-.2 1.41-.59l7.78-7.78 2.81-2.81c.8-.78.8-2.07 0-2.86zM5.41 20L4 18.59l7.72-7.72 1.47 1.35L5.41 20z\"/>\n",
              "  </svg>\n",
              "      </button>\n",
              "      \n",
              "  <style>\n",
              "    .colab-df-container {\n",
              "      display:flex;\n",
              "      flex-wrap:wrap;\n",
              "      gap: 12px;\n",
              "    }\n",
              "\n",
              "    .colab-df-convert {\n",
              "      background-color: #E8F0FE;\n",
              "      border: none;\n",
              "      border-radius: 50%;\n",
              "      cursor: pointer;\n",
              "      display: none;\n",
              "      fill: #1967D2;\n",
              "      height: 32px;\n",
              "      padding: 0 0 0 0;\n",
              "      width: 32px;\n",
              "    }\n",
              "\n",
              "    .colab-df-convert:hover {\n",
              "      background-color: #E2EBFA;\n",
              "      box-shadow: 0px 1px 2px rgba(60, 64, 67, 0.3), 0px 1px 3px 1px rgba(60, 64, 67, 0.15);\n",
              "      fill: #174EA6;\n",
              "    }\n",
              "\n",
              "    [theme=dark] .colab-df-convert {\n",
              "      background-color: #3B4455;\n",
              "      fill: #D2E3FC;\n",
              "    }\n",
              "\n",
              "    [theme=dark] .colab-df-convert:hover {\n",
              "      background-color: #434B5C;\n",
              "      box-shadow: 0px 1px 3px 1px rgba(0, 0, 0, 0.15);\n",
              "      filter: drop-shadow(0px 1px 2px rgba(0, 0, 0, 0.3));\n",
              "      fill: #FFFFFF;\n",
              "    }\n",
              "  </style>\n",
              "\n",
              "      <script>\n",
              "        const buttonEl =\n",
              "          document.querySelector('#df-9f1a6341-f980-4d02-8522-1f8a2c5b7289 button.colab-df-convert');\n",
              "        buttonEl.style.display =\n",
              "          google.colab.kernel.accessAllowed ? 'block' : 'none';\n",
              "\n",
              "        async function convertToInteractive(key) {\n",
              "          const element = document.querySelector('#df-9f1a6341-f980-4d02-8522-1f8a2c5b7289');\n",
              "          const dataTable =\n",
              "            await google.colab.kernel.invokeFunction('convertToInteractive',\n",
              "                                                     [key], {});\n",
              "          if (!dataTable) return;\n",
              "\n",
              "          const docLinkHtml = 'Like what you see? Visit the ' +\n",
              "            '<a target=\"_blank\" href=https://colab.research.google.com/notebooks/data_table.ipynb>data table notebook</a>'\n",
              "            + ' to learn more about interactive tables.';\n",
              "          element.innerHTML = '';\n",
              "          dataTable['output_type'] = 'display_data';\n",
              "          await google.colab.output.renderOutput(dataTable, element);\n",
              "          const docLink = document.createElement('div');\n",
              "          docLink.innerHTML = docLinkHtml;\n",
              "          element.appendChild(docLink);\n",
              "        }\n",
              "      </script>\n",
              "    </div>\n",
              "  </div>\n",
              "  "
            ],
            "text/plain": [
              "         TARGET_FLAG\n",
              "REVOKED             \n",
              "No          0.238793\n",
              "Yes         0.443000"
            ]
          },
          "metadata": {},
          "execution_count": 29
        }
      ]
    },
    {
      "cell_type": "markdown",
      "source": [
        "### RED_CAR"
      ],
      "metadata": {
        "id": "FmN9ByZYgdjv"
      }
    },
    {
      "cell_type": "code",
      "source": [
        "fig, ax = plt.subplots(figsize=(20,10))\n",
        "sns.countplot(ax = ax, data = df_train, x='RED_CAR', hue ='TARGET_FLAG')\n",
        "# plt.xticks(rotation = 0)\n",
        "plt.title(\"RED_CAR histogram for each Target value\")\n",
        "plt.show()"
      ],
      "metadata": {
        "colab": {
          "base_uri": "https://localhost:8080/",
          "height": 0
        },
        "id": "r3DSna6PgsYe",
        "outputId": "c1ecab42-fc0d-44cb-dd53-6066557f1ee6"
      },
      "execution_count": 30,
      "outputs": [
        {
          "output_type": "display_data",
          "data": {
            "image/png": "[encoded data removed]",
            "text/plain": [
              "<Figure size 1440x720 with 1 Axes>"
            ]
          },
          "metadata": {
            "needs_background": "light"
          }
        }
      ]
    },
    {
      "cell_type": "code",
      "source": [
        "df_train[['TARGET_FLAG','RED_CAR']].groupby('RED_CAR').mean().sort_values(by='TARGET_FLAG')"
      ],
      "metadata": {
        "colab": {
          "base_uri": "https://localhost:8080/",
          "height": 0
        },
        "id": "dsBkN0Dggdta",
        "outputId": "b568f513-49b5-4844-a4bb-23711de170e4"
      },
      "execution_count": 31,
      "outputs": [
        {
          "output_type": "execute_result",
          "data": {
            "text/html": [
              "\n",
              "  <div id=\"df-55e4cc9e-95d2-444f-88a4-daf480ba0b91\">\n",
              "    <div class=\"colab-df-container\">\n",
              "      <div>\n",
              "<style scoped>\n",
              "    .dataframe tbody tr th:only-of-type {\n",
              "        vertical-align: middle;\n",
              "    }\n",
              "\n",
              "    .dataframe tbody tr th {\n",
              "        vertical-align: top;\n",
              "    }\n",
              "\n",
              "    .dataframe thead th {\n",
              "        text-align: right;\n",
              "    }\n",
              "</style>\n",
              "<table border=\"1\" class=\"dataframe\">\n",
              "  <thead>\n",
              "    <tr style=\"text-align: right;\">\n",
              "      <th></th>\n",
              "      <th>TARGET_FLAG</th>\n",
              "    </tr>\n",
              "    <tr>\n",
              "      <th>RED_CAR</th>\n",
              "      <th></th>\n",
              "    </tr>\n",
              "  </thead>\n",
              "  <tbody>\n",
              "    <tr>\n",
              "      <th>yes</th>\n",
              "      <td>0.259041</td>\n",
              "    </tr>\n",
              "    <tr>\n",
              "      <th>no</th>\n",
              "      <td>0.265779</td>\n",
              "    </tr>\n",
              "  </tbody>\n",
              "</table>\n",
              "</div>\n",
              "      <button class=\"colab-df-convert\" onclick=\"convertToInteractive('df-55e4cc9e-95d2-444f-88a4-daf480ba0b91')\"\n",
              "              title=\"Convert this dataframe to an interactive table.\"\n",
              "              style=\"display:none;\">\n",
              "        \n",
              "  <svg xmlns=\"http://www.w3.org/2000/svg\" height=\"24px\"viewBox=\"0 0 24 24\"\n",
              "       width=\"24px\">\n",
              "    <path d=\"M0 0h24v24H0V0z\" fill=\"none\"/>\n",
              "    <path d=\"M18.56 5.44l.94 2.06.94-2.06 2.06-.94-2.06-.94-.94-2.06-.94 2.06-2.06.94zm-11 1L8.5 8.5l.94-2.06 2.06-.94-2.06-.94L8.5 2.5l-.94 2.06-2.06.94zm10 10l.94 2.06.94-2.06 2.06-.94-2.06-.94-.94-2.06-.94 2.06-2.06.94z\"/><path d=\"M17.41 7.96l-1.37-1.37c-.4-.4-.92-.59-1.43-.59-.52 0-1.04.2-1.43.59L10.3 9.45l-7.72 7.72c-.78.78-.78 2.05 0 2.83L4 21.41c.39.39.9.59 1.41.59.51 0 1.02-.2 1.41-.59l7.78-7.78 2.81-2.81c.8-.78.8-2.07 0-2.86zM5.41 20L4 18.59l7.72-7.72 1.47 1.35L5.41 20z\"/>\n",
              "  </svg>\n",
              "      </button>\n",
              "      \n",
              "  <style>\n",
              "    .colab-df-container {\n",
              "      display:flex;\n",
              "      flex-wrap:wrap;\n",
              "      gap: 12px;\n",
              "    }\n",
              "\n",
              "    .colab-df-convert {\n",
              "      background-color: #E8F0FE;\n",
              "      border: none;\n",
              "      border-radius: 50%;\n",
              "      cursor: pointer;\n",
              "      display: none;\n",
              "      fill: #1967D2;\n",
              "      height: 32px;\n",
              "      padding: 0 0 0 0;\n",
              "      width: 32px;\n",
              "    }\n",
              "\n",
              "    .colab-df-convert:hover {\n",
              "      background-color: #E2EBFA;\n",
              "      box-shadow: 0px 1px 2px rgba(60, 64, 67, 0.3), 0px 1px 3px 1px rgba(60, 64, 67, 0.15);\n",
              "      fill: #174EA6;\n",
              "    }\n",
              "\n",
              "    [theme=dark] .colab-df-convert {\n",
              "      background-color: #3B4455;\n",
              "      fill: #D2E3FC;\n",
              "    }\n",
              "\n",
              "    [theme=dark] .colab-df-convert:hover {\n",
              "      background-color: #434B5C;\n",
              "      box-shadow: 0px 1px 3px 1px rgba(0, 0, 0, 0.15);\n",
              "      filter: drop-shadow(0px 1px 2px rgba(0, 0, 0, 0.3));\n",
              "      fill: #FFFFFF;\n",
              "    }\n",
              "  </style>\n",
              "\n",
              "      <script>\n",
              "        const buttonEl =\n",
              "          document.querySelector('#df-55e4cc9e-95d2-444f-88a4-daf480ba0b91 button.colab-df-convert');\n",
              "        buttonEl.style.display =\n",
              "          google.colab.kernel.accessAllowed ? 'block' : 'none';\n",
              "\n",
              "        async function convertToInteractive(key) {\n",
              "          const element = document.querySelector('#df-55e4cc9e-95d2-444f-88a4-daf480ba0b91');\n",
              "          const dataTable =\n",
              "            await google.colab.kernel.invokeFunction('convertToInteractive',\n",
              "                                                     [key], {});\n",
              "          if (!dataTable) return;\n",
              "\n",
              "          const docLinkHtml = 'Like what you see? Visit the ' +\n",
              "            '<a target=\"_blank\" href=https://colab.research.google.com/notebooks/data_table.ipynb>data table notebook</a>'\n",
              "            + ' to learn more about interactive tables.';\n",
              "          element.innerHTML = '';\n",
              "          dataTable['output_type'] = 'display_data';\n",
              "          await google.colab.output.renderOutput(dataTable, element);\n",
              "          const docLink = document.createElement('div');\n",
              "          docLink.innerHTML = docLinkHtml;\n",
              "          element.appendChild(docLink);\n",
              "        }\n",
              "      </script>\n",
              "    </div>\n",
              "  </div>\n",
              "  "
            ],
            "text/plain": [
              "         TARGET_FLAG\n",
              "RED_CAR             \n",
              "yes         0.259041\n",
              "no          0.265779"
            ]
          },
          "metadata": {},
          "execution_count": 31
        }
      ]
    },
    {
      "cell_type": "markdown",
      "source": [
        "### REVOKED"
      ],
      "metadata": {
        "id": "INo0kBNClidD"
      }
    },
    {
      "cell_type": "code",
      "source": [
        "df_train[['TARGET_FLAG','REVOKED']].groupby('REVOKED').mean().sort_values(by='TARGET_FLAG')"
      ],
      "metadata": {
        "colab": {
          "base_uri": "https://localhost:8080/",
          "height": 0
        },
        "id": "MnRp3MbggeO4",
        "outputId": "86764ce3-ba77-447e-a75a-54ae05e251d5"
      },
      "execution_count": 32,
      "outputs": [
        {
          "output_type": "execute_result",
          "data": {
            "text/html": [
              "\n",
              "  <div id=\"df-a8e42d18-d85e-42de-9478-e63bc8372801\">\n",
              "    <div class=\"colab-df-container\">\n",
              "      <div>\n",
              "<style scoped>\n",
              "    .dataframe tbody tr th:only-of-type {\n",
              "        vertical-align: middle;\n",
              "    }\n",
              "\n",
              "    .dataframe tbody tr th {\n",
              "        vertical-align: top;\n",
              "    }\n",
              "\n",
              "    .dataframe thead th {\n",
              "        text-align: right;\n",
              "    }\n",
              "</style>\n",
              "<table border=\"1\" class=\"dataframe\">\n",
              "  <thead>\n",
              "    <tr style=\"text-align: right;\">\n",
              "      <th></th>\n",
              "      <th>TARGET_FLAG</th>\n",
              "    </tr>\n",
              "    <tr>\n",
              "      <th>REVOKED</th>\n",
              "      <th></th>\n",
              "    </tr>\n",
              "  </thead>\n",
              "  <tbody>\n",
              "    <tr>\n",
              "      <th>No</th>\n",
              "      <td>0.238793</td>\n",
              "    </tr>\n",
              "    <tr>\n",
              "      <th>Yes</th>\n",
              "      <td>0.443000</td>\n",
              "    </tr>\n",
              "  </tbody>\n",
              "</table>\n",
              "</div>\n",
              "      <button class=\"colab-df-convert\" onclick=\"convertToInteractive('df-a8e42d18-d85e-42de-9478-e63bc8372801')\"\n",
              "              title=\"Convert this dataframe to an interactive table.\"\n",
              "              style=\"display:none;\">\n",
              "        \n",
              "  <svg xmlns=\"http://www.w3.org/2000/svg\" height=\"24px\"viewBox=\"0 0 24 24\"\n",
              "       width=\"24px\">\n",
              "    <path d=\"M0 0h24v24H0V0z\" fill=\"none\"/>\n",
              "    <path d=\"M18.56 5.44l.94 2.06.94-2.06 2.06-.94-2.06-.94-.94-2.06-.94 2.06-2.06.94zm-11 1L8.5 8.5l.94-2.06 2.06-.94-2.06-.94L8.5 2.5l-.94 2.06-2.06.94zm10 10l.94 2.06.94-2.06 2.06-.94-2.06-.94-.94-2.06-.94 2.06-2.06.94z\"/><path d=\"M17.41 7.96l-1.37-1.37c-.4-.4-.92-.59-1.43-.59-.52 0-1.04.2-1.43.59L10.3 9.45l-7.72 7.72c-.78.78-.78 2.05 0 2.83L4 21.41c.39.39.9.59 1.41.59.51 0 1.02-.2 1.41-.59l7.78-7.78 2.81-2.81c.8-.78.8-2.07 0-2.86zM5.41 20L4 18.59l7.72-7.72 1.47 1.35L5.41 20z\"/>\n",
              "  </svg>\n",
              "      </button>\n",
              "      \n",
              "  <style>\n",
              "    .colab-df-container {\n",
              "      display:flex;\n",
              "      flex-wrap:wrap;\n",
              "      gap: 12px;\n",
              "    }\n",
              "\n",
              "    .colab-df-convert {\n",
              "      background-color: #E8F0FE;\n",
              "      border: none;\n",
              "      border-radius: 50%;\n",
              "      cursor: pointer;\n",
              "      display: none;\n",
              "      fill: #1967D2;\n",
              "      height: 32px;\n",
              "      padding: 0 0 0 0;\n",
              "      width: 32px;\n",
              "    }\n",
              "\n",
              "    .colab-df-convert:hover {\n",
              "      background-color: #E2EBFA;\n",
              "      box-shadow: 0px 1px 2px rgba(60, 64, 67, 0.3), 0px 1px 3px 1px rgba(60, 64, 67, 0.15);\n",
              "      fill: #174EA6;\n",
              "    }\n",
              "\n",
              "    [theme=dark] .colab-df-convert {\n",
              "      background-color: #3B4455;\n",
              "      fill: #D2E3FC;\n",
              "    }\n",
              "\n",
              "    [theme=dark] .colab-df-convert:hover {\n",
              "      background-color: #434B5C;\n",
              "      box-shadow: 0px 1px 3px 1px rgba(0, 0, 0, 0.15);\n",
              "      filter: drop-shadow(0px 1px 2px rgba(0, 0, 0, 0.3));\n",
              "      fill: #FFFFFF;\n",
              "    }\n",
              "  </style>\n",
              "\n",
              "      <script>\n",
              "        const buttonEl =\n",
              "          document.querySelector('#df-a8e42d18-d85e-42de-9478-e63bc8372801 button.colab-df-convert');\n",
              "        buttonEl.style.display =\n",
              "          google.colab.kernel.accessAllowed ? 'block' : 'none';\n",
              "\n",
              "        async function convertToInteractive(key) {\n",
              "          const element = document.querySelector('#df-a8e42d18-d85e-42de-9478-e63bc8372801');\n",
              "          const dataTable =\n",
              "            await google.colab.kernel.invokeFunction('convertToInteractive',\n",
              "                                                     [key], {});\n",
              "          if (!dataTable) return;\n",
              "\n",
              "          const docLinkHtml = 'Like what you see? Visit the ' +\n",
              "            '<a target=\"_blank\" href=https://colab.research.google.com/notebooks/data_table.ipynb>data table notebook</a>'\n",
              "            + ' to learn more about interactive tables.';\n",
              "          element.innerHTML = '';\n",
              "          dataTable['output_type'] = 'display_data';\n",
              "          await google.colab.output.renderOutput(dataTable, element);\n",
              "          const docLink = document.createElement('div');\n",
              "          docLink.innerHTML = docLinkHtml;\n",
              "          element.appendChild(docLink);\n",
              "        }\n",
              "      </script>\n",
              "    </div>\n",
              "  </div>\n",
              "  "
            ],
            "text/plain": [
              "         TARGET_FLAG\n",
              "REVOKED             \n",
              "No          0.238793\n",
              "Yes         0.443000"
            ]
          },
          "metadata": {},
          "execution_count": 32
        }
      ]
    },
    {
      "cell_type": "markdown",
      "source": [
        "### URBANICITY"
      ],
      "metadata": {
        "id": "4eNXkFuJleqy"
      }
    },
    {
      "cell_type": "code",
      "source": [
        "df_train[['TARGET_FLAG','URBANICITY']].groupby('URBANICITY').mean().sort_values(by='TARGET_FLAG')"
      ],
      "metadata": {
        "colab": {
          "base_uri": "https://localhost:8080/",
          "height": 0
        },
        "id": "hBJk0QtmlbgI",
        "outputId": "eac88790-ce55-496a-c07b-c2750e444807"
      },
      "execution_count": 33,
      "outputs": [
        {
          "output_type": "execute_result",
          "data": {
            "text/html": [
              "\n",
              "  <div id=\"df-8d5691fd-6cab-49a5-9b9d-917cc068a0f8\">\n",
              "    <div class=\"colab-df-container\">\n",
              "      <div>\n",
              "<style scoped>\n",
              "    .dataframe tbody tr th:only-of-type {\n",
              "        vertical-align: middle;\n",
              "    }\n",
              "\n",
              "    .dataframe tbody tr th {\n",
              "        vertical-align: top;\n",
              "    }\n",
              "\n",
              "    .dataframe thead th {\n",
              "        text-align: right;\n",
              "    }\n",
              "</style>\n",
              "<table border=\"1\" class=\"dataframe\">\n",
              "  <thead>\n",
              "    <tr style=\"text-align: right;\">\n",
              "      <th></th>\n",
              "      <th>TARGET_FLAG</th>\n",
              "    </tr>\n",
              "    <tr>\n",
              "      <th>URBANICITY</th>\n",
              "      <th></th>\n",
              "    </tr>\n",
              "  </thead>\n",
              "  <tbody>\n",
              "    <tr>\n",
              "      <th>z_Highly Rural/ Rural</th>\n",
              "      <td>0.068904</td>\n",
              "    </tr>\n",
              "    <tr>\n",
              "      <th>Highly Urban/ Urban</th>\n",
              "      <td>0.313925</td>\n",
              "    </tr>\n",
              "  </tbody>\n",
              "</table>\n",
              "</div>\n",
              "      <button class=\"colab-df-convert\" onclick=\"convertToInteractive('df-8d5691fd-6cab-49a5-9b9d-917cc068a0f8')\"\n",
              "              title=\"Convert this dataframe to an interactive table.\"\n",
              "              style=\"display:none;\">\n",
              "        \n",
              "  <svg xmlns=\"http://www.w3.org/2000/svg\" height=\"24px\"viewBox=\"0 0 24 24\"\n",
              "       width=\"24px\">\n",
              "    <path d=\"M0 0h24v24H0V0z\" fill=\"none\"/>\n",
              "    <path d=\"M18.56 5.44l.94 2.06.94-2.06 2.06-.94-2.06-.94-.94-2.06-.94 2.06-2.06.94zm-11 1L8.5 8.5l.94-2.06 2.06-.94-2.06-.94L8.5 2.5l-.94 2.06-2.06.94zm10 10l.94 2.06.94-2.06 2.06-.94-2.06-.94-.94-2.06-.94 2.06-2.06.94z\"/><path d=\"M17.41 7.96l-1.37-1.37c-.4-.4-.92-.59-1.43-.59-.52 0-1.04.2-1.43.59L10.3 9.45l-7.72 7.72c-.78.78-.78 2.05 0 2.83L4 21.41c.39.39.9.59 1.41.59.51 0 1.02-.2 1.41-.59l7.78-7.78 2.81-2.81c.8-.78.8-2.07 0-2.86zM5.41 20L4 18.59l7.72-7.72 1.47 1.35L5.41 20z\"/>\n",
              "  </svg>\n",
              "      </button>\n",
              "      \n",
              "  <style>\n",
              "    .colab-df-container {\n",
              "      display:flex;\n",
              "      flex-wrap:wrap;\n",
              "      gap: 12px;\n",
              "    }\n",
              "\n",
              "    .colab-df-convert {\n",
              "      background-color: #E8F0FE;\n",
              "      border: none;\n",
              "      border-radius: 50%;\n",
              "      cursor: pointer;\n",
              "      display: none;\n",
              "      fill: #1967D2;\n",
              "      height: 32px;\n",
              "      padding: 0 0 0 0;\n",
              "      width: 32px;\n",
              "    }\n",
              "\n",
              "    .colab-df-convert:hover {\n",
              "      background-color: #E2EBFA;\n",
              "      box-shadow: 0px 1px 2px rgba(60, 64, 67, 0.3), 0px 1px 3px 1px rgba(60, 64, 67, 0.15);\n",
              "      fill: #174EA6;\n",
              "    }\n",
              "\n",
              "    [theme=dark] .colab-df-convert {\n",
              "      background-color: #3B4455;\n",
              "      fill: #D2E3FC;\n",
              "    }\n",
              "\n",
              "    [theme=dark] .colab-df-convert:hover {\n",
              "      background-color: #434B5C;\n",
              "      box-shadow: 0px 1px 3px 1px rgba(0, 0, 0, 0.15);\n",
              "      filter: drop-shadow(0px 1px 2px rgba(0, 0, 0, 0.3));\n",
              "      fill: #FFFFFF;\n",
              "    }\n",
              "  </style>\n",
              "\n",
              "      <script>\n",
              "        const buttonEl =\n",
              "          document.querySelector('#df-8d5691fd-6cab-49a5-9b9d-917cc068a0f8 button.colab-df-convert');\n",
              "        buttonEl.style.display =\n",
              "          google.colab.kernel.accessAllowed ? 'block' : 'none';\n",
              "\n",
              "        async function convertToInteractive(key) {\n",
              "          const element = document.querySelector('#df-8d5691fd-6cab-49a5-9b9d-917cc068a0f8');\n",
              "          const dataTable =\n",
              "            await google.colab.kernel.invokeFunction('convertToInteractive',\n",
              "                                                     [key], {});\n",
              "          if (!dataTable) return;\n",
              "\n",
              "          const docLinkHtml = 'Like what you see? Visit the ' +\n",
              "            '<a target=\"_blank\" href=https://colab.research.google.com/notebooks/data_table.ipynb>data table notebook</a>'\n",
              "            + ' to learn more about interactive tables.';\n",
              "          element.innerHTML = '';\n",
              "          dataTable['output_type'] = 'display_data';\n",
              "          await google.colab.output.renderOutput(dataTable, element);\n",
              "          const docLink = document.createElement('div');\n",
              "          docLink.innerHTML = docLinkHtml;\n",
              "          element.appendChild(docLink);\n",
              "        }\n",
              "      </script>\n",
              "    </div>\n",
              "  </div>\n",
              "  "
            ],
            "text/plain": [
              "                       TARGET_FLAG\n",
              "URBANICITY                        \n",
              "z_Highly Rural/ Rural     0.068904\n",
              "Highly Urban/ Urban       0.313925"
            ]
          },
          "metadata": {},
          "execution_count": 33
        }
      ]
    },
    {
      "cell_type": "code",
      "source": [
        ""
      ],
      "metadata": {
        "id": "YI2czHCSlfqq"
      },
      "execution_count": 33,
      "outputs": []
    },
    {
      "cell_type": "markdown",
      "source": [
        "## Corrolation Matrix"
      ],
      "metadata": {
        "id": "yMqVSXvE7Put"
      }
    },
    {
      "cell_type": "code",
      "source": [
        "corr = df_train.corr()\n",
        "mask = np.triu(np.ones_like(corr, dtype=bool)) # Mask for upper triangle\n",
        "\n",
        "f, ax = plt.subplots(figsize=(11, 9))\n",
        "\n",
        "cmap = sns.diverging_palette(230, 20, as_cmap=True)\n",
        "sns.heatmap(corr, mask=mask, cmap=cmap, annot=True, vmax=.3, center=0,\n",
        "            square=True, linewidths=.5, cbar_kws={\"shrink\": .5})"
      ],
      "metadata": {
        "colab": {
          "base_uri": "https://localhost:8080/",
          "height": 0
        },
        "id": "hCdTC5tp7SPh",
        "outputId": "0c9a4646-0452-49b9-ce7f-67a6d5ad6fc2"
      },
      "execution_count": 34,
      "outputs": [
        {
          "output_type": "execute_result",
          "data": {
            "text/plain": [
              "<matplotlib.axes._subplots.AxesSubplot at 0x7fe0816a8a10>"
            ]
          },
          "metadata": {},
          "execution_count": 34
        },
        {
          "output_type": "display_data",
          "data": {
            "image/png": "[encoded data removed]",
            "text/plain": [
              "<Figure size 792x648 with 2 Axes>"
            ]
          },
          "metadata": {
            "needs_background": "light"
          }
        }
      ]
    },
    {
      "cell_type": "markdown",
      "source": [
        "**Salient points :**\n",
        "- High corrolation between TARGET_AMT and TARGET_FLAG which we have already established in the analysis phase\n",
        "- High corrolation also between TARGET_FLAG, CLM_FREQ and MVR_PTS. Somthing evident as we discussed.\n",
        "- INCOME is correlated with HOME_VAL, YOJ and BLUEBOOK. This is an obvious information.\n"
      ],
      "metadata": {
        "id": "yqLwEJ758NB5"
      }
    },
    {
      "cell_type": "markdown",
      "source": [
        "## Feature Importance using Random Forest"
      ],
      "metadata": {
        "id": "ZSkyzUJf-n3C"
      }
    },
    {
      "cell_type": "code",
      "source": [
        "from sklearn.model_selection import train_test_split\n",
        "X = df_train.drop(columns=['TARGET_FLAG', 'TARGET_AMT'])\n",
        "y = df_train.TARGET_FLAG\n",
        "X_train, X_test, y_train, y_test = train_test_split(X, y, stratify=y, random_state=42)"
      ],
      "metadata": {
        "id": "P5grXlyB-nCu"
      },
      "execution_count": 35,
      "outputs": []
    },
    {
      "cell_type": "code",
      "source": [
        "from sklearn.compose import make_column_transformer, ColumnTransformer\n",
        "from sklearn.pipeline import make_pipeline, Pipeline\n",
        "from sklearn.impute import SimpleImputer\n",
        "from sklearn.ensemble import RandomForestClassifier\n",
        "from sklearn.preprocessing import OrdinalEncoder, StandardScaler\n",
        "\n",
        "\n",
        "numerical_preprocessing = Pipeline(\n",
        "    steps=[\n",
        "           ('imput', SimpleImputer(strategy= 'median')),\n",
        "           ('scal', StandardScaler())\n",
        "    ]\n",
        ")\n",
        "\n",
        "categorical_preprocessing = Pipeline(\n",
        "    steps=[\n",
        "           (\"Imput\", SimpleImputer(strategy='constant', fill_value='missing')),\n",
        "           (\"encod\", OrdinalEncoder())\n",
        "           ]\n",
        ")\n",
        "\n",
        "\n",
        "\n",
        "preprocessor = ColumnTransformer(\n",
        "    transformers=[\n",
        "                  ('num',numerical_preprocessing, numerical_features), \n",
        "                  ('cat',categorical_preprocessing, Categorical_features),\n",
        "                  ]\n",
        ")\n",
        "\n",
        "model = Pipeline(\n",
        "    steps=[\n",
        "           ('preprocessor',preprocessor),\n",
        "           ('classifier',RandomForestClassifier(n_estimators=100))\n",
        "    ]\n",
        ")\n"
      ],
      "metadata": {
        "id": "SqJko0GC65Yq"
      },
      "execution_count": 36,
      "outputs": []
    },
    {
      "cell_type": "code",
      "source": [
        "model.fit(X_train, y_train)"
      ],
      "metadata": {
        "colab": {
          "base_uri": "https://localhost:8080/"
        },
        "id": "mIdsnxGYF0_4",
        "outputId": "d28ef8a4-8be5-48f4-d865-6f34c44ddca0"
      },
      "execution_count": 37,
      "outputs": [
        {
          "output_type": "execute_result",
          "data": {
            "text/plain": [
              "Pipeline(steps=[('preprocessor',\n",
              "                 ColumnTransformer(transformers=[('num',\n",
              "                                                  Pipeline(steps=[('imput',\n",
              "                                                                   SimpleImputer(strategy='median')),\n",
              "                                                                  ('scal',\n",
              "                                                                   StandardScaler())]),\n",
              "                                                  ['KIDSDRIV', 'AGE',\n",
              "                                                   'HOMEKIDS', 'YOJ',\n",
              "                                                   'TRAVTIME', 'TIF',\n",
              "                                                   'CLM_FREQ', 'MVR_PTS',\n",
              "                                                   'CAR_AGE', 'INCOME',\n",
              "                                                   'HOME_VAL', 'BLUEBOOK',\n",
              "                                                   'OLDCLAIM']),\n",
              "                                                 ('cat',\n",
              "                                                  Pipeline(steps=[('Imput',\n",
              "                                                                   SimpleImputer(fill_value='missing',\n",
              "                                                                                 strategy='constant')),\n",
              "                                                                  ('encod',\n",
              "                                                                   OrdinalEncoder())]),\n",
              "                                                  ['PARENT1', 'MSTATUS', 'SEX',\n",
              "                                                   'EDUCATION', 'JOB',\n",
              "                                                   'CAR_USE', 'CAR_TYPE',\n",
              "                                                   'RED_CAR', 'REVOKED',\n",
              "                                                   'URBANICITY'])])),\n",
              "                ('classifier', RandomForestClassifier())])"
            ]
          },
          "metadata": {},
          "execution_count": 37
        }
      ]
    },
    {
      "cell_type": "code",
      "source": [
        "importances = model.get_params()['classifier'].feature_importances_\n",
        "f, ax = plt.subplots(figsize=(11, 9))\n",
        "(pd.Series(importances, index=X.columns).sort_values(ascending=False)\n",
        "   .plot(kind='barh'))"
      ],
      "metadata": {
        "colab": {
          "base_uri": "https://localhost:8080/",
          "height": 0
        },
        "id": "BEl1JeRpLO7L",
        "outputId": "7dc273b7-6e57-4a24-e25c-4dee55f2e25d"
      },
      "execution_count": 38,
      "outputs": [
        {
          "output_type": "execute_result",
          "data": {
            "text/plain": [
              "<matplotlib.axes._subplots.AxesSubplot at 0x7fe07c1581d0>"
            ]
          },
          "metadata": {},
          "execution_count": 38
        },
        {
          "output_type": "display_data",
          "data": {
            "image/png": "[encoded data removed]",
            "text/plain": [
              "<Figure size 792x648 with 1 Axes>"
            ]
          },
          "metadata": {
            "needs_background": "light"
          }
        }
      ]
    },
    {
      "cell_type": "code",
      "source": [
        "from sklearn.metrics import accuracy_score\n",
        "y_pred = model.predict(X_test)\n",
        "accuracy_score(y_test,y_pred)"
      ],
      "metadata": {
        "colab": {
          "base_uri": "https://localhost:8080/"
        },
        "id": "RRuqFl50Wv2E",
        "outputId": "45351c15-f111-41ff-eeee-2d687fe89604"
      },
      "execution_count": 39,
      "outputs": [
        {
          "output_type": "execute_result",
          "data": {
            "text/plain": [
              "0.7937285644292014"
            ]
          },
          "metadata": {},
          "execution_count": 39
        }
      ]
    },
    {
      "cell_type": "markdown",
      "source": [
        "This model has performed well giving an accuracy score of 0.7927\n",
        "According to this classifier, the best features that help predict the target are : \"*EDUCATION*\", \"*TRAVTIME*\", \"*INCOME*\", \"*AGE*\", \"*JOB*\" and \"*CAR_USE*\". "
      ],
      "metadata": {
        "id": "_KG02nAPY3mg"
      }
    },
    {
      "cell_type": "markdown",
      "source": [
        "# Modeling"
      ],
      "metadata": {
        "id": "PKkUM0t6axnO"
      }
    },
    {
      "cell_type": "markdown",
      "source": [
        "For the modeling phase, we will use some basic machine learning models (such as Logistic Regression). Then we will try some boosting algorithms (Catboost, HistGradientBoosting). We may also try an imbalanced learning algorithm as our data is imbalanced."
      ],
      "metadata": {
        "id": "IisUMbTX_5S-"
      }
    },
    {
      "cell_type": "code",
      "source": [
        "from sklearn.metrics import f1_score   \n",
        "from sklearn.metrics import roc_curve, auc\n",
        "\n",
        "numerical_features = ['KIDSDRIV','AGE','HOMEKIDS','YOJ','TRAVTIME','TIF','CLM_FREQ','MVR_PTS','CAR_AGE','INCOME','HOME_VAL','BLUEBOOK','OLDCLAIM']\n",
        "Categorical_features = ['PARENT1','MSTATUS','SEX','EDUCATION','JOB','CAR_USE','CAR_TYPE','RED_CAR','REVOKED','URBANICITY']\n",
        "\n",
        "# Creating Pipelines to preprocess data and define the model\n",
        "numerical_preprocessing = Pipeline(\n",
        "    steps=[\n",
        "           ('imput', SimpleImputer(strategy= 'median')),\n",
        "           ('scal', StandardScaler())\n",
        "    ]\n",
        ")\n",
        "\n",
        "categorical_preprocessing = Pipeline(\n",
        "    steps=[\n",
        "           (\"Imput\", SimpleImputer(strategy='constant', fill_value='missing')),\n",
        "           (\"encod\", OrdinalEncoder())\n",
        "           ]\n",
        ")\n",
        "\n",
        "preprocessor = ColumnTransformer(\n",
        "    transformers=[\n",
        "                  ('num',numerical_preprocessing, numerical_features), \n",
        "                  ('cat',categorical_preprocessing, Categorical_features),\n",
        "                  ]\n",
        ")\n",
        "\n",
        "# Splitting the data\n",
        "X = df_train.drop(columns=['TARGET_FLAG', 'TARGET_AMT'])\n",
        "y = df_train.TARGET_FLAG\n",
        "X_train, X_test, y_train, y_test = train_test_split(X, y, stratify=y, random_state=42)\n"
      ],
      "metadata": {
        "id": "mMwwz0immsh0"
      },
      "execution_count": 40,
      "outputs": []
    },
    {
      "cell_type": "markdown",
      "source": [
        "##Logistic regression"
      ],
      "metadata": {
        "id": "S41Hl1CXazAX"
      }
    },
    {
      "cell_type": "code",
      "source": [
        "from sklearn.linear_model import LogisticRegression\n",
        "\n",
        "model_logreg = Pipeline(\n",
        "    steps=[\n",
        "           ('preprocessor',preprocessor),\n",
        "           ('classifier',LogisticRegression())\n",
        "    ]\n",
        ")\n",
        "\n",
        "model_logreg.fit(X_train, y_train)\n",
        "\n",
        "y_pred_logreg = model_logreg.predict(X_test)\n",
        "\n",
        "\n",
        "acc_logreg = accuracy_score(y_test,y_pred_logreg)\n",
        "f1_logreg = f1_score(y_test,y_pred_logreg)\n",
        "\n",
        "fpr, tpr, thresholds = roc_curve(y_test, y_pred_logreg)\n",
        "auc_logreg = auc(fpr, tpr)\n",
        "\n",
        "\n",
        "print(\"accuracy_score :\",acc_logreg)\n",
        "print(\"f1_score :\", f1_logreg)\n",
        "print(\"auc :\", auc_logreg)"
      ],
      "metadata": {
        "colab": {
          "base_uri": "https://localhost:8080/"
        },
        "id": "YyBnKKtPaqfk",
        "outputId": "ed34b9b5-7b5b-47ef-c231-3d3161667ecb"
      },
      "execution_count": 41,
      "outputs": [
        {
          "output_type": "stream",
          "name": "stdout",
          "text": [
            "accuracy_score : 0.7898089171974523\n",
            "f1_score : 0.49941656942823803\n",
            "auc : 0.6639546186437534\n"
          ]
        }
      ]
    },
    {
      "cell_type": "markdown",
      "source": [
        "## Catboost"
      ],
      "metadata": {
        "id": "b_aSTNf_hJib"
      }
    },
    {
      "cell_type": "code",
      "source": [
        "# !pip install catboost\n",
        "from catboost import CatBoostClassifier\n",
        "\n",
        "model_catboost = Pipeline(\n",
        "    steps=[\n",
        "           ('preprocessor',preprocessor),\n",
        "           ('classifier',CatBoostClassifier(verbose=0))\n",
        "    ]\n",
        ")\n",
        "\n",
        "model_catboost.fit(X_train, y_train)\n",
        "\n",
        "y_pred_catboost = model_catboost.predict(X_test)\n",
        "\n",
        "\n",
        "acc_catboost = accuracy_score(y_test,y_pred_catboost)\n",
        "f1_catboost = f1_score(y_test,y_pred_catboost)\n",
        "\n",
        "fpr, tpr, thresholds = roc_curve(y_test, y_pred_catboost)\n",
        "auc_catboost = auc(fpr, tpr)\n",
        "\n",
        "\n",
        "print(\"accuracy_score :\",acc_catboost)\n",
        "print(\"f1_score :\", f1_catboost)\n",
        "print(\"auc :\", auc_catboost)"
      ],
      "metadata": {
        "colab": {
          "base_uri": "https://localhost:8080/"
        },
        "id": "7bT36Dmkh3NR",
        "outputId": "bda808ae-4f45-46b4-e549-eb18d7f27757"
      },
      "execution_count": 42,
      "outputs": [
        {
          "output_type": "stream",
          "name": "stdout",
          "text": [
            "accuracy_score : 0.8074473297403234\n",
            "f1_score : 0.5569334836527622\n",
            "auc : 0.6956217676171819\n"
          ]
        }
      ]
    },
    {
      "cell_type": "markdown",
      "source": [
        "## HistGradientBoosting"
      ],
      "metadata": {
        "id": "mhH39_5sivVO"
      }
    },
    {
      "cell_type": "code",
      "source": [
        "from sklearn.ensemble import HistGradientBoostingClassifier\n",
        "\n",
        "model_HGB = Pipeline(\n",
        "    steps=[\n",
        "           ('preprocessor',preprocessor),\n",
        "           ('classifier',HistGradientBoostingClassifier())\n",
        "    ]\n",
        ")\n",
        "\n",
        "model_HGB.fit(X_train, y_train)\n",
        "\n",
        "y_pred_HGB = model_HGB.predict(X_test)\n",
        "\n",
        "\n",
        "acc_HGB = accuracy_score(y_test,y_pred_HGB)\n",
        "f1_HGB = f1_score(y_test,y_pred_HGB)\n",
        "\n",
        "fpr, tpr, thresholds = roc_curve(y_test, y_pred_HGB)\n",
        "auc_HGB = auc(fpr, tpr)\n",
        "\n",
        "\n",
        "print(\"accuracy_score :\",acc_HGB)\n",
        "print(\"f1_score :\", f1_HGB)\n",
        "print(\"auc :\", auc_HGB)"
      ],
      "metadata": {
        "colab": {
          "base_uri": "https://localhost:8080/"
        },
        "id": "QzallNWZiHqi",
        "outputId": "1abff171-cafa-458d-8f89-c9a285798511"
      },
      "execution_count": 43,
      "outputs": [
        {
          "output_type": "stream",
          "name": "stdout",
          "text": [
            "accuracy_score : 0.8000979911807937\n",
            "f1_score : 0.5612903225806452\n",
            "auc : 0.6989855481107178\n"
          ]
        }
      ]
    },
    {
      "cell_type": "markdown",
      "source": [
        "## LGBM"
      ],
      "metadata": {
        "id": "i-sP_Q_cjv-5"
      }
    },
    {
      "cell_type": "code",
      "source": [
        "from lightgbm import LGBMClassifier\n",
        "\n",
        "model_LGBM = Pipeline(\n",
        "    steps=[\n",
        "           ('preprocessor',preprocessor),\n",
        "           ('classifier',LGBMClassifier())\n",
        "    ]\n",
        ")\n",
        "\n",
        "model_LGBM.fit(X_train, y_train)\n",
        "\n",
        "y_pred_LGBM = model_LGBM.predict(X_test)\n",
        "\n",
        "\n",
        "acc_LGBM = accuracy_score(y_test,y_pred_LGBM)\n",
        "f1_LGBM = f1_score(y_test,y_pred_LGBM)\n",
        "\n",
        "fpr, tpr, thresholds = roc_curve(y_test, y_pred_LGBM)\n",
        "auc_LGBM = auc(fpr, tpr)\n",
        "\n",
        "\n",
        "print(\"accuracy_score :\",acc_LGBM)\n",
        "print(\"f1_score :\", f1_LGBM)\n",
        "print(\"auc :\", auc_LGBM)"
      ],
      "metadata": {
        "colab": {
          "base_uri": "https://localhost:8080/"
        },
        "id": "UO96PjtQjR8R",
        "outputId": "daaf7e61-e79a-4d0e-e810-a5a6509fe7c0"
      },
      "execution_count": 44,
      "outputs": [
        {
          "output_type": "stream",
          "name": "stdout",
          "text": [
            "accuracy_score : 0.8059774620284175\n",
            "f1_score : 0.5732758620689655\n",
            "auc : 0.7059610642407873\n"
          ]
        }
      ]
    },
    {
      "cell_type": "markdown",
      "source": [
        "## VotingClassifier"
      ],
      "metadata": {
        "id": "z1r0DQa56j-8"
      }
    },
    {
      "cell_type": "code",
      "source": [
        "from sklearn.ensemble import VotingClassifier\n",
        "\n",
        "clfs = [\n",
        "    ('lc', LGBMClassifier()),\n",
        "    ('cc', CatBoostClassifier(verbose=0))\n",
        "    ]\n",
        "\n",
        "model_vot = Pipeline(\n",
        "    steps=[\n",
        "           ('preprocessor',preprocessor),\n",
        "           ('classifier',VotingClassifier(clfs))\n",
        "    ]\n",
        ")\n",
        "\n",
        "\n",
        "model_vot.fit(X_train, y_train)\n",
        "\n",
        "y_pred_vot = model_vot.predict(X_test)\n",
        "\n",
        "acc_vot = accuracy_score(y_test,y_pred_vot)\n",
        "f1_vot = f1_score(y_test,y_pred_vot)\n",
        "\n",
        "fpr, tpr, thresholds = roc_curve(y_test, y_pred_vot)\n",
        "auc_vot = auc(fpr, tpr)\n",
        "\n",
        "\n",
        "print(\"accuracy_score :\",acc_vot)\n",
        "print(\"f1_score :\", f1_vot)\n",
        "print(\"auc :\", auc_vot)"
      ],
      "metadata": {
        "colab": {
          "base_uri": "https://localhost:8080/"
        },
        "id": "vqj981jZkB31",
        "outputId": "7e6895fc-595b-4d43-ff61-de5b65513d67"
      },
      "execution_count": 45,
      "outputs": [
        {
          "output_type": "stream",
          "name": "stdout",
          "text": [
            "accuracy_score : 0.8049975502204801\n",
            "f1_score : 0.5339578454332553\n",
            "auc : 0.6826211270148674\n"
          ]
        }
      ]
    },
    {
      "cell_type": "markdown",
      "source": [
        "## SMOTE for imbalanced learning"
      ],
      "metadata": {
        "id": "wMq8YPTetx4p"
      }
    },
    {
      "cell_type": "code",
      "source": [
        "from imblearn.pipeline import Pipeline as Pipeline_imblearn\n",
        "from imblearn.over_sampling import SMOTE\n",
        "\n",
        "model_imb = Pipeline_imblearn(steps=[('preprocessor', preprocessor),\n",
        "                      ('underSampler',SMOTE()),\n",
        "                      ('classifier', CatBoostClassifier(verbose=0))\n",
        "                       ])\n",
        "\n",
        "model_imb.fit(X_train, y_train)\n",
        "\n",
        "y_pred_imb = model_imb.predict(X_test)\n",
        "\n",
        "\n",
        "acc_imb = accuracy_score(y_test,y_pred_imb)\n",
        "f1_imb = f1_score(y_test,y_pred_imb)\n",
        "\n",
        "fpr, tpr, thresholds = roc_curve(y_test, y_pred_imb)\n",
        "auc_imb = auc(fpr, tpr)\n",
        "\n",
        "\n",
        "print(\"accuracy_score :\",acc_imb)\n",
        "print(\"f1_score :\", f1_imb)\n",
        "print(\"auc :\", auc_imb)"
      ],
      "metadata": {
        "colab": {
          "base_uri": "https://localhost:8080/"
        },
        "id": "ZHw7_mz4txLY",
        "outputId": "b5477a29-1de0-487a-a9f1-80a38319e3b0"
      },
      "execution_count": 46,
      "outputs": [
        {
          "output_type": "stream",
          "name": "stdout",
          "text": [
            "accuracy_score : 0.7971582557569818\n",
            "f1_score : 0.56875\n",
            "auc : 0.7041499405154994\n"
          ]
        }
      ]
    },
    {
      "cell_type": "markdown",
      "source": [
        "## Sample Weight logistic regression"
      ],
      "metadata": {
        "id": "H_intsUz00Up"
      }
    },
    {
      "cell_type": "code",
      "source": [
        "from sklearn.linear_model import LogisticRegression\n",
        "\n",
        "model_logreg_w = Pipeline(\n",
        "    steps=[\n",
        "           ('preprocessor',preprocessor),\n",
        "           ('classifier',LogisticRegression())\n",
        "    ]\n",
        ")\n",
        "\n",
        "model_logreg_w.fit(X_train, y_train, classifier__sample_weight=(0.75 - y_train/2))\n",
        "\n",
        "y_pred_logreg_w = model_logreg_w.predict(X_test)\n",
        "\n",
        "\n",
        "# METRICS\n",
        "\n",
        "acc_logreg_w = accuracy_score(y_test,y_pred_logreg_w)\n",
        "f1_logreg_w = f1_score(y_test,y_pred_logreg_w)\n",
        "\n",
        "fpr, tpr, thresholds = roc_curve(y_test, y_pred_logreg_w)\n",
        "auc_logreg_w = auc(fpr, tpr)\n",
        "\n",
        "\n",
        "print(\"accuracy_score :\",acc_logreg_w)\n",
        "print(\"f1_score :\", f1_logreg_w)\n",
        "print(\"auc :\", auc_logreg_w)\n"
      ],
      "metadata": {
        "colab": {
          "base_uri": "https://localhost:8080/"
        },
        "id": "ESH-8VTEpQOR",
        "outputId": "6e892fbc-ad55-4e13-dc83-07ac05ad05e4"
      },
      "execution_count": 47,
      "outputs": [
        {
          "output_type": "stream",
          "name": "stdout",
          "text": [
            "accuracy_score : 0.7535521803037727\n",
            "f1_score : 0.1602671118530885\n",
            "auc : 0.5402849814621068\n"
          ]
        }
      ]
    },
    {
      "cell_type": "markdown",
      "source": [
        "## Conclusion"
      ],
      "metadata": {
        "id": "jLxmCYZXFL3J"
      }
    },
    {
      "cell_type": "code",
      "source": [
        "summary = {}\n",
        "summary['Logistic Regression'] = [auc_logreg, f1_logreg, acc_logreg]\n",
        "summary['Catboost'] = [auc_catboost, f1_catboost, acc_catboost]\n",
        "summary['HistGradientBoosting'] = [auc_HGB, f1_HGB, acc_HGB]\n",
        "summary['LGBM'] = [auc_LGBM, f1_LGBM, acc_LGBM ]\n",
        "summary['Voting Classifier'] = [auc_vot, f1_vot, acc_vot ]\n",
        "summary['SMOTE for imbalanced learning'] = [auc_imb, f1_imb, acc_imb ]\n",
        "summary['Sample Weight Log_REG'] = [auc_logreg_w, f1_logreg_w, acc_logreg_w ]\n",
        "\n",
        "df_summary = pd.DataFrame.from_dict(summary, orient='index')\n",
        "df_summary.rename(columns={0: 'AUC', 1: 'F1 Score', 2:'Accuracy'}, inplace=True)\n",
        "df_summary.sort_values(by='AUC')"
      ],
      "metadata": {
        "colab": {
          "base_uri": "https://localhost:8080/",
          "height": 269
        },
        "id": "RDdRvdyjFLO_",
        "outputId": "c15d53be-a259-4b37-8582-1b1cc806691c"
      },
      "execution_count": 51,
      "outputs": [
        {
          "output_type": "execute_result",
          "data": {
            "text/html": [
              "\n",
              "  <div id=\"df-1736b741-f97f-41e6-8756-47e3870af04b\">\n",
              "    <div class=\"colab-df-container\">\n",
              "      <div>\n",
              "<style scoped>\n",
              "    .dataframe tbody tr th:only-of-type {\n",
              "        vertical-align: middle;\n",
              "    }\n",
              "\n",
              "    .dataframe tbody tr th {\n",
              "        vertical-align: top;\n",
              "    }\n",
              "\n",
              "    .dataframe thead th {\n",
              "        text-align: right;\n",
              "    }\n",
              "</style>\n",
              "<table border=\"1\" class=\"dataframe\">\n",
              "  <thead>\n",
              "    <tr style=\"text-align: right;\">\n",
              "      <th></th>\n",
              "      <th>AUC</th>\n",
              "      <th>F1 Score</th>\n",
              "      <th>Accuracy</th>\n",
              "    </tr>\n",
              "  </thead>\n",
              "  <tbody>\n",
              "    <tr>\n",
              "      <th>Sample Weight Log_REG</th>\n",
              "      <td>0.540285</td>\n",
              "      <td>0.160267</td>\n",
              "      <td>0.753552</td>\n",
              "    </tr>\n",
              "    <tr>\n",
              "      <th>Logistic Regression</th>\n",
              "      <td>0.663955</td>\n",
              "      <td>0.499417</td>\n",
              "      <td>0.789809</td>\n",
              "    </tr>\n",
              "    <tr>\n",
              "      <th>Voting Classifier</th>\n",
              "      <td>0.682621</td>\n",
              "      <td>0.533958</td>\n",
              "      <td>0.804998</td>\n",
              "    </tr>\n",
              "    <tr>\n",
              "      <th>Catboost</th>\n",
              "      <td>0.695622</td>\n",
              "      <td>0.556933</td>\n",
              "      <td>0.807447</td>\n",
              "    </tr>\n",
              "    <tr>\n",
              "      <th>HistGradientBoosting</th>\n",
              "      <td>0.698986</td>\n",
              "      <td>0.561290</td>\n",
              "      <td>0.800098</td>\n",
              "    </tr>\n",
              "    <tr>\n",
              "      <th>SMOTE for imbalanced learning</th>\n",
              "      <td>0.704150</td>\n",
              "      <td>0.568750</td>\n",
              "      <td>0.797158</td>\n",
              "    </tr>\n",
              "    <tr>\n",
              "      <th>LGBM</th>\n",
              "      <td>0.705961</td>\n",
              "      <td>0.573276</td>\n",
              "      <td>0.805977</td>\n",
              "    </tr>\n",
              "  </tbody>\n",
              "</table>\n",
              "</div>\n",
              "      <button class=\"colab-df-convert\" onclick=\"convertToInteractive('df-1736b741-f97f-41e6-8756-47e3870af04b')\"\n",
              "              title=\"Convert this dataframe to an interactive table.\"\n",
              "              style=\"display:none;\">\n",
              "        \n",
              "  <svg xmlns=\"http://www.w3.org/2000/svg\" height=\"24px\"viewBox=\"0 0 24 24\"\n",
              "       width=\"24px\">\n",
              "    <path d=\"M0 0h24v24H0V0z\" fill=\"none\"/>\n",
              "    <path d=\"M18.56 5.44l.94 2.06.94-2.06 2.06-.94-2.06-.94-.94-2.06-.94 2.06-2.06.94zm-11 1L8.5 8.5l.94-2.06 2.06-.94-2.06-.94L8.5 2.5l-.94 2.06-2.06.94zm10 10l.94 2.06.94-2.06 2.06-.94-2.06-.94-.94-2.06-.94 2.06-2.06.94z\"/><path d=\"M17.41 7.96l-1.37-1.37c-.4-.4-.92-.59-1.43-.59-.52 0-1.04.2-1.43.59L10.3 9.45l-7.72 7.72c-.78.78-.78 2.05 0 2.83L4 21.41c.39.39.9.59 1.41.59.51 0 1.02-.2 1.41-.59l7.78-7.78 2.81-2.81c.8-.78.8-2.07 0-2.86zM5.41 20L4 18.59l7.72-7.72 1.47 1.35L5.41 20z\"/>\n",
              "  </svg>\n",
              "      </button>\n",
              "      \n",
              "  <style>\n",
              "    .colab-df-container {\n",
              "      display:flex;\n",
              "      flex-wrap:wrap;\n",
              "      gap: 12px;\n",
              "    }\n",
              "\n",
              "    .colab-df-convert {\n",
              "      background-color: #E8F0FE;\n",
              "      border: none;\n",
              "      border-radius: 50%;\n",
              "      cursor: pointer;\n",
              "      display: none;\n",
              "      fill: #1967D2;\n",
              "      height: 32px;\n",
              "      padding: 0 0 0 0;\n",
              "      width: 32px;\n",
              "    }\n",
              "\n",
              "    .colab-df-convert:hover {\n",
              "      background-color: #E2EBFA;\n",
              "      box-shadow: 0px 1px 2px rgba(60, 64, 67, 0.3), 0px 1px 3px 1px rgba(60, 64, 67, 0.15);\n",
              "      fill: #174EA6;\n",
              "    }\n",
              "\n",
              "    [theme=dark] .colab-df-convert {\n",
              "      background-color: #3B4455;\n",
              "      fill: #D2E3FC;\n",
              "    }\n",
              "\n",
              "    [theme=dark] .colab-df-convert:hover {\n",
              "      background-color: #434B5C;\n",
              "      box-shadow: 0px 1px 3px 1px rgba(0, 0, 0, 0.15);\n",
              "      filter: drop-shadow(0px 1px 2px rgba(0, 0, 0, 0.3));\n",
              "      fill: #FFFFFF;\n",
              "    }\n",
              "  </style>\n",
              "\n",
              "      <script>\n",
              "        const buttonEl =\n",
              "          document.querySelector('#df-1736b741-f97f-41e6-8756-47e3870af04b button.colab-df-convert');\n",
              "        buttonEl.style.display =\n",
              "          google.colab.kernel.accessAllowed ? 'block' : 'none';\n",
              "\n",
              "        async function convertToInteractive(key) {\n",
              "          const element = document.querySelector('#df-1736b741-f97f-41e6-8756-47e3870af04b');\n",
              "          const dataTable =\n",
              "            await google.colab.kernel.invokeFunction('convertToInteractive',\n",
              "                                                     [key], {});\n",
              "          if (!dataTable) return;\n",
              "\n",
              "          const docLinkHtml = 'Like what you see? Visit the ' +\n",
              "            '<a target=\"_blank\" href=https://colab.research.google.com/notebooks/data_table.ipynb>data table notebook</a>'\n",
              "            + ' to learn more about interactive tables.';\n",
              "          element.innerHTML = '';\n",
              "          dataTable['output_type'] = 'display_data';\n",
              "          await google.colab.output.renderOutput(dataTable, element);\n",
              "          const docLink = document.createElement('div');\n",
              "          docLink.innerHTML = docLinkHtml;\n",
              "          element.appendChild(docLink);\n",
              "        }\n",
              "      </script>\n",
              "    </div>\n",
              "  </div>\n",
              "  "
            ],
            "text/plain": [
              "                                    AUC  F1 Score  Accuracy\n",
              "Sample Weight Log_REG          0.540285  0.160267  0.753552\n",
              "Logistic Regression            0.663955  0.499417  0.789809\n",
              "Voting Classifier              0.682621  0.533958  0.804998\n",
              "Catboost                       0.695622  0.556933  0.807447\n",
              "HistGradientBoosting           0.698986  0.561290  0.800098\n",
              "SMOTE for imbalanced learning  0.704150  0.568750  0.797158\n",
              "LGBM                           0.705961  0.573276  0.805977"
            ]
          },
          "metadata": {},
          "execution_count": 51
        }
      ]
    },
    {
      "cell_type": "markdown",
      "source": [
        "The performances of the models used are not very different but according to AUC metric, the best of them is the LGBM model. Thus we will try to boost its performance by finding its best hyperparameters and then we will proceed to generating predictions."
      ],
      "metadata": {
        "id": "NzwVoyXPMbCO"
      }
    },
    {
      "cell_type": "code",
      "source": [
        "from sklearn.model_selection import RandomizedSearchCV\n",
        "\n",
        "param_distributions = {'n_estimators': [int(x) for x in np.linspace(10, 1000, 15)],\n",
        "                       'max_depth': [10*i for i in range (1,11)]\n",
        "                       }\n",
        "\n",
        "\n",
        "\n",
        "model = Pipeline(steps=[('preprocessor', preprocessor),\n",
        "                        ('classifier',RandomizedSearchCV(estimator= LGBMClassifier(),\n",
        "                                                         param_distributions= param_distributions,\n",
        "                                                         n_iter= 100, cv= 5, verbose= 2, n_jobs=4))\n",
        "                        ])\n",
        "\n",
        "model.fit(X_train, y_train)\n",
        "best_params = model.get_params()['classifier'].best_params_\n",
        "best_params\n",
        "\n"
      ],
      "metadata": {
        "colab": {
          "base_uri": "https://localhost:8080/"
        },
        "id": "3oPFciGrMWDm",
        "outputId": "d4be2b27-cb09-4466-8971-55893d691b91"
      },
      "execution_count": 52,
      "outputs": [
        {
          "output_type": "stream",
          "name": "stdout",
          "text": [
            "Fitting 5 folds for each of 100 candidates, totalling 500 fits\n"
          ]
        },
        {
          "output_type": "execute_result",
          "data": {
            "text/plain": [
              "{'max_depth': 50, 'n_estimators': 80}"
            ]
          },
          "metadata": {},
          "execution_count": 52
        }
      ]
    },
    {
      "cell_type": "code",
      "source": [
        "from lightgbm import LGBMClassifier\n",
        "\n",
        "model_LGBM = Pipeline(\n",
        "    steps=[\n",
        "           ('preprocessor',preprocessor),\n",
        "           ('classifier',RandomForestClassifier(max_depth=20, n_estimators=80))\n",
        "    ]\n",
        ")\n",
        "\n",
        "model_LGBM.fit(X_train, y_train)\n",
        "\n",
        "y_pred_LGBM = model_LGBM.predict(X_test)\n",
        "\n",
        "\n",
        "acc_LGBM = accuracy_score(y_test,y_pred_LGBM)\n",
        "f1_LGBM = f1_score(y_test,y_pred_LGBM)\n",
        "\n",
        "fpr, tpr, thresholds = roc_curve(y_test, y_pred_LGBM)\n",
        "auc_LGBM = auc(fpr, tpr)\n",
        "\n",
        "\n",
        "print(\"accuracy_score :\",acc_LGBM)\n",
        "print(\"f1_score :\", f1_LGBM)\n",
        "print(\"auc :\", auc_LGBM)"
      ],
      "metadata": {
        "colab": {
          "base_uri": "https://localhost:8080/"
        },
        "id": "SwGiXTuaX-nP",
        "outputId": "e41505dd-f5a8-4d11-d4b1-de4067d57fdb"
      },
      "execution_count": 53,
      "outputs": [
        {
          "output_type": "stream",
          "name": "stdout",
          "text": [
            "accuracy_score : 0.780499755022048\n",
            "f1_score : 0.4716981132075472\n",
            "auc : 0.6492801262407032\n"
          ]
        }
      ]
    },
    {
      "cell_type": "markdown",
      "source": [
        "It seems that the model performs better with its defaul hyperparameters."
      ],
      "metadata": {
        "id": "4RWtvxwRd6r6"
      }
    },
    {
      "cell_type": "markdown",
      "source": [
        "# Generating Predictions"
      ],
      "metadata": {
        "id": "p8GfDH2C6QrT"
      }
    },
    {
      "cell_type": "code",
      "source": [
        "df_test = pd.read_csv(data_folder + \"test_auto.csv\")\n",
        "df_test.head()\n",
        "other_features = [\"INCOME\", \"HOME_VAL\", \"BLUEBOOK\", \"OLDCLAIM\"]\n",
        "for feature in other_features :\n",
        "  df_test[feature] = pd.to_numeric(df_test[feature].str.replace(',','.').str[1:])"
      ],
      "metadata": {
        "id": "iJo-bRuB6QcC"
      },
      "execution_count": 54,
      "outputs": []
    },
    {
      "cell_type": "code",
      "source": [
        "# Model choice \n",
        "clf = Pipeline(\n",
        "    steps=[\n",
        "           ('preprocessor',preprocessor),\n",
        "           ('classifier',RandomForestClassifier(max_depth=20, n_estimators=80))\n",
        "    ]\n",
        ")\n",
        "\n",
        "# fitting model\n",
        "clf.fit(X,y)\n",
        "\n",
        "# Making predictions\n",
        "X_pred = df_test.drop(columns=['TARGET_FLAG', 'TARGET_AMT'])\n",
        "y_pred = clf.predict(X_pred)\n"
      ],
      "metadata": {
        "id": "FINmdUPY6dL9"
      },
      "execution_count": 55,
      "outputs": []
    },
    {
      "cell_type": "code",
      "source": [
        "y_pred"
      ],
      "metadata": {
        "colab": {
          "base_uri": "https://localhost:8080/"
        },
        "id": "72GmVF65gcv4",
        "outputId": "788e2b57-e931-4a02-c7f7-75af25c97a4b"
      },
      "execution_count": 56,
      "outputs": [
        {
          "output_type": "execute_result",
          "data": {
            "text/plain": [
              "array([0, 0, 0, ..., 0, 0, 0])"
            ]
          },
          "metadata": {},
          "execution_count": 56
        }
      ]
    },
    {
      "cell_type": "code",
      "source": [
        "df_test['TARGET_FLAG'] = y_pred\n",
        "df_test.to_csv('auto_test_with_predictions.csv', index=False)"
      ],
      "metadata": {
        "id": "-C-LYw9ugsBb"
      },
      "execution_count": 58,
      "outputs": []
    },
    {
      "cell_type": "markdown",
      "source": [
        "# Conclusion"
      ],
      "metadata": {
        "id": "jHZ-6CGEg5eQ"
      }
    },
    {
      "cell_type": "markdown",
      "source": [
        "To sum up what we have seen during this technical test, the objective of this project is classify individuals as risky or not according to many features. \n",
        "\n",
        "All the features are somehow helpful to make the prediction. They bring up important information even if some of them are highly correlated.\n",
        "\n",
        "We have tested many machine learning algorithms for the classification task and most of them were well performing. We tried to solve the problem of imbalanced data by working on imbalanced learning algorithms but the result was not as expected.\n",
        "\n",
        "To evaluate the performances of the implemented models we have calculated three metrics. But the one that was decicive is the AUC which stands for the Area Under ROC Curve. This metric gives us an idea about the True Positives and the False Negatives and it is best to maximize this metric because in our case we should avoid the False Negatives. In fact, to predict a person is risky while he is not truly risky is better then predicting a person is not risky when in reality he is risky. \n",
        "\n",
        "Some improvements to this work :\n",
        "- Trying some data augmentation methods to avoid the imbalanced data problem.\n",
        "- Implementing the grid search for each model in order to get the best hyperparameters and trying out more parameters of the grid. \n",
        "- Maybe some feature engineering could do boost the performance."
      ],
      "metadata": {
        "id": "J4Bi8qsDh6dN"
      }
    },
    {
      "cell_type": "code",
      "source": [
        ""
      ],
      "metadata": {
        "id": "LhjuFKnOpY2U"
      },
      "execution_count": null,
      "outputs": []
    }
  ]
}